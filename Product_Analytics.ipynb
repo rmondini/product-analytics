{
 "cells": [
  {
   "cell_type": "markdown",
   "metadata": {},
   "source": [
    "# Import libraries"
   ]
  },
  {
   "cell_type": "code",
   "execution_count": 1,
   "metadata": {},
   "outputs": [],
   "source": [
    "import numpy as np\n",
    "import pandas as pd\n",
    "import matplotlib.pyplot as plt\n",
    "import matplotlib.dates as mdates\n",
    "import seaborn as sns\n",
    "import datetime\n",
    "from datetime import timedelta\n",
    "from pandas.plotting import table"
   ]
  },
  {
   "cell_type": "code",
   "execution_count": 2,
   "metadata": {},
   "outputs": [],
   "source": [
    "# import libraries for time series analysis and forecasting\n",
    "from statsmodels.tsa.seasonal import seasonal_decompose\n",
    "from statsmodels.tsa.stattools import adfuller, acf, pacf\n",
    "from statsmodels.graphics.tsaplots import plot_acf, plot_pacf\n",
    "import pmdarima as pm"
   ]
  },
  {
   "cell_type": "markdown",
   "metadata": {},
   "source": [
    "# Load dataset"
   ]
  },
  {
   "cell_type": "code",
   "execution_count": 3,
   "metadata": {},
   "outputs": [],
   "source": [
    "ping_df = pd.read_json('./ping_dataset.json')"
   ]
  },
  {
   "cell_type": "markdown",
   "metadata": {},
   "source": [
    "# Data Wrangling & Exploratory Analysis"
   ]
  },
  {
   "cell_type": "code",
   "execution_count": 4,
   "metadata": {},
   "outputs": [
    {
     "data": {
      "text/html": [
       "<div>\n",
       "<style scoped>\n",
       "    .dataframe tbody tr th:only-of-type {\n",
       "        vertical-align: middle;\n",
       "    }\n",
       "\n",
       "    .dataframe tbody tr th {\n",
       "        vertical-align: top;\n",
       "    }\n",
       "\n",
       "    .dataframe thead th {\n",
       "        text-align: right;\n",
       "    }\n",
       "</style>\n",
       "<table border=\"1\" class=\"dataframe\">\n",
       "  <thead>\n",
       "    <tr style=\"text-align: right;\">\n",
       "      <th></th>\n",
       "      <th>date</th>\n",
       "      <th>timestamp</th>\n",
       "      <th>uid</th>\n",
       "      <th>isFirst</th>\n",
       "      <th>utmSource</th>\n",
       "    </tr>\n",
       "  </thead>\n",
       "  <tbody>\n",
       "    <tr>\n",
       "      <th>0</th>\n",
       "      <td>2016-02-29</td>\n",
       "      <td>2016-02-29 08:00:01.255</td>\n",
       "      <td>g4Hjpoji4dmv</td>\n",
       "      <td>False</td>\n",
       "      <td>Biznesowe+Rewolucje</td>\n",
       "    </tr>\n",
       "    <tr>\n",
       "      <th>1</th>\n",
       "      <td>2016-02-29</td>\n",
       "      <td>2016-02-29 08:00:01.556</td>\n",
       "      <td>g4Hjpoji4dmv</td>\n",
       "      <td>False</td>\n",
       "      <td>Biznesowe+Rewolucje</td>\n",
       "    </tr>\n",
       "    <tr>\n",
       "      <th>2</th>\n",
       "      <td>2016-02-29</td>\n",
       "      <td>2016-02-29 08:00:01.770</td>\n",
       "      <td>75121338</td>\n",
       "      <td>False</td>\n",
       "      <td>program</td>\n",
       "    </tr>\n",
       "    <tr>\n",
       "      <th>3</th>\n",
       "      <td>2016-02-29</td>\n",
       "      <td>2016-02-29 08:00:03.129</td>\n",
       "      <td>11l0tD2wFPFO</td>\n",
       "      <td>False</td>\n",
       "      <td>None</td>\n",
       "    </tr>\n",
       "    <tr>\n",
       "      <th>4</th>\n",
       "      <td>2016-02-29</td>\n",
       "      <td>2016-02-29 08:00:03.610</td>\n",
       "      <td>56429432</td>\n",
       "      <td>False</td>\n",
       "      <td>None</td>\n",
       "    </tr>\n",
       "  </tbody>\n",
       "</table>\n",
       "</div>"
      ],
      "text/plain": [
       "        date               timestamp           uid  isFirst  \\\n",
       "0 2016-02-29 2016-02-29 08:00:01.255  g4Hjpoji4dmv    False   \n",
       "1 2016-02-29 2016-02-29 08:00:01.556  g4Hjpoji4dmv    False   \n",
       "2 2016-02-29 2016-02-29 08:00:01.770      75121338    False   \n",
       "3 2016-02-29 2016-02-29 08:00:03.129  11l0tD2wFPFO    False   \n",
       "4 2016-02-29 2016-02-29 08:00:03.610      56429432    False   \n",
       "\n",
       "             utmSource  \n",
       "0  Biznesowe+Rewolucje  \n",
       "1  Biznesowe+Rewolucje  \n",
       "2              program  \n",
       "3                 None  \n",
       "4                 None  "
      ]
     },
     "execution_count": 4,
     "metadata": {},
     "output_type": "execute_result"
    }
   ],
   "source": [
    "ping_df.head()"
   ]
  },
  {
   "cell_type": "code",
   "execution_count": 5,
   "metadata": {},
   "outputs": [
    {
     "name": "stdout",
     "output_type": "stream",
     "text": [
      "<class 'pandas.core.frame.DataFrame'>\n",
      "RangeIndex: 4823567 entries, 0 to 4823566\n",
      "Data columns (total 5 columns):\n",
      " #   Column     Dtype         \n",
      "---  ------     -----         \n",
      " 0   date       datetime64[ns]\n",
      " 1   timestamp  datetime64[ns]\n",
      " 2   uid        object        \n",
      " 3   isFirst    bool          \n",
      " 4   utmSource  object        \n",
      "dtypes: bool(1), datetime64[ns](2), object(2)\n",
      "memory usage: 151.8+ MB\n"
     ]
    }
   ],
   "source": [
    "ping_df.info()"
   ]
  },
  {
   "cell_type": "markdown",
   "metadata": {},
   "source": [
    "We check for duplicate entries (rows) and observe that there are around 13,000 (~0.26% of total):"
   ]
  },
  {
   "cell_type": "code",
   "execution_count": 6,
   "metadata": {},
   "outputs": [
    {
     "data": {
      "text/plain": [
       "12979"
      ]
     },
     "execution_count": 6,
     "metadata": {},
     "output_type": "execute_result"
    }
   ],
   "source": [
    "sum(ping_df.duplicated())"
   ]
  },
  {
   "cell_type": "markdown",
   "metadata": {},
   "source": [
    "We drop duplicates by keeping only the first entry in the dataset."
   ]
  },
  {
   "cell_type": "code",
   "execution_count": 7,
   "metadata": {},
   "outputs": [],
   "source": [
    "ping_df.drop_duplicates(inplace=True)"
   ]
  },
  {
   "cell_type": "code",
   "execution_count": 8,
   "metadata": {},
   "outputs": [
    {
     "name": "stderr",
     "output_type": "stream",
     "text": [
      "/home/roberto/anaconda3/lib/python3.7/site-packages/ipykernel_launcher.py:1: FutureWarning: Treating datetime data as categorical rather than numeric in `.describe` is deprecated and will be removed in a future version of pandas. Specify `datetime_is_numeric=True` to silence this warning and adopt the future behavior now.\n",
      "  \"\"\"Entry point for launching an IPython kernel.\n",
      "/home/roberto/anaconda3/lib/python3.7/site-packages/ipykernel_launcher.py:1: FutureWarning: Treating datetime data as categorical rather than numeric in `.describe` is deprecated and will be removed in a future version of pandas. Specify `datetime_is_numeric=True` to silence this warning and adopt the future behavior now.\n",
      "  \"\"\"Entry point for launching an IPython kernel.\n"
     ]
    },
    {
     "data": {
      "text/html": [
       "<div>\n",
       "<style scoped>\n",
       "    .dataframe tbody tr th:only-of-type {\n",
       "        vertical-align: middle;\n",
       "    }\n",
       "\n",
       "    .dataframe tbody tr th {\n",
       "        vertical-align: top;\n",
       "    }\n",
       "\n",
       "    .dataframe thead th {\n",
       "        text-align: right;\n",
       "    }\n",
       "</style>\n",
       "<table border=\"1\" class=\"dataframe\">\n",
       "  <thead>\n",
       "    <tr style=\"text-align: right;\">\n",
       "      <th></th>\n",
       "      <th>date</th>\n",
       "      <th>timestamp</th>\n",
       "      <th>uid</th>\n",
       "      <th>isFirst</th>\n",
       "      <th>utmSource</th>\n",
       "    </tr>\n",
       "  </thead>\n",
       "  <tbody>\n",
       "    <tr>\n",
       "      <th>count</th>\n",
       "      <td>4810588</td>\n",
       "      <td>4810588</td>\n",
       "      <td>4810588</td>\n",
       "      <td>4810588</td>\n",
       "      <td>3142386</td>\n",
       "    </tr>\n",
       "    <tr>\n",
       "      <th>unique</th>\n",
       "      <td>29</td>\n",
       "      <td>4802369</td>\n",
       "      <td>246840</td>\n",
       "      <td>2</td>\n",
       "      <td>52</td>\n",
       "    </tr>\n",
       "    <tr>\n",
       "      <th>top</th>\n",
       "      <td>2016-02-29 00:00:00</td>\n",
       "      <td>2016-02-25 19:46:44.202000</td>\n",
       "      <td>vwLJO2uDWrXr</td>\n",
       "      <td>False</td>\n",
       "      <td>Biznesowe+Rewolucje</td>\n",
       "    </tr>\n",
       "    <tr>\n",
       "      <th>freq</th>\n",
       "      <td>194243</td>\n",
       "      <td>18</td>\n",
       "      <td>2807</td>\n",
       "      <td>4723945</td>\n",
       "      <td>1776600</td>\n",
       "    </tr>\n",
       "    <tr>\n",
       "      <th>first</th>\n",
       "      <td>2016-02-01 00:00:00</td>\n",
       "      <td>2016-02-01 08:00:01.230000</td>\n",
       "      <td>NaN</td>\n",
       "      <td>NaN</td>\n",
       "      <td>NaN</td>\n",
       "    </tr>\n",
       "    <tr>\n",
       "      <th>last</th>\n",
       "      <td>2016-02-29 00:00:00</td>\n",
       "      <td>2016-03-01 07:59:58.557000</td>\n",
       "      <td>NaN</td>\n",
       "      <td>NaN</td>\n",
       "      <td>NaN</td>\n",
       "    </tr>\n",
       "  </tbody>\n",
       "</table>\n",
       "</div>"
      ],
      "text/plain": [
       "                       date                   timestamp           uid  \\\n",
       "count               4810588                     4810588       4810588   \n",
       "unique                   29                     4802369        246840   \n",
       "top     2016-02-29 00:00:00  2016-02-25 19:46:44.202000  vwLJO2uDWrXr   \n",
       "freq                 194243                          18          2807   \n",
       "first   2016-02-01 00:00:00  2016-02-01 08:00:01.230000           NaN   \n",
       "last    2016-02-29 00:00:00  2016-03-01 07:59:58.557000           NaN   \n",
       "\n",
       "        isFirst            utmSource  \n",
       "count   4810588              3142386  \n",
       "unique        2                   52  \n",
       "top       False  Biznesowe+Rewolucje  \n",
       "freq    4723945              1776600  \n",
       "first       NaN                  NaN  \n",
       "last        NaN                  NaN  "
      ]
     },
     "execution_count": 8,
     "metadata": {},
     "output_type": "execute_result"
    }
   ],
   "source": [
    "ping_df.describe(include='all',datetime_is_numeric=False)"
   ]
  },
  {
   "cell_type": "markdown",
   "metadata": {},
   "source": [
    "We observe the following:\n",
    "- 'date' does not seem to have missing values. There are 29 unique values, which should correspond to the 29 different days in February 2016 (leap year). First date is 2016-02-01 and last date is 2016-02-29 as expected.\n",
    "- 'timestamp' does not seem to have missing values. Most values are unique but some have frequencies > 1. The first timestamp is 2016-02-01 at slightly after 8am, which is suspicious since we would expect pings to happen starting from midnight. Similarly, the last timestamp is 2016-03-01 right before 8am.\n",
    "- 'uid' does not seem to have missing values. As expected, only a small subset is unique.\n",
    "- 'isFirst' does not seem to have missing values. It is a boolean variable so only two unique values. As expected, greatly imbalanced towards False.\n",
    "- 'utmSource' seems to have missing values and only 52 unique ones (expected since these are traffic sources).\n",
    "\n",
    "We now analyze each feature separately in more detail."
   ]
  },
  {
   "cell_type": "markdown",
   "metadata": {},
   "source": [
    "### date\n",
    "We can uncomment the following line and visually check that the 29 unique values indeed correspond to the 29 days of February 2016:"
   ]
  },
  {
   "cell_type": "code",
   "execution_count": 9,
   "metadata": {},
   "outputs": [],
   "source": [
    "# sorted(ping_df['date'].unique())"
   ]
  },
  {
   "cell_type": "markdown",
   "metadata": {},
   "source": [
    "We plot the distribution of the date column by each day of the month. We consistently observe decreasing number of pings on Fridays and Saturdays throughout the month with a repeating pattern. We also observe that there is an overall increasing trend over time."
   ]
  },
  {
   "cell_type": "code",
   "execution_count": 10,
   "metadata": {},
   "outputs": [
    {
     "data": {
      "image/png": "[encoded data removed]",
      "text/plain": [
       "<Figure size 432x288 with 1 Axes>"
      ]
     },
     "metadata": {
      "needs_background": "light"
     },
     "output_type": "display_data"
    }
   ],
   "source": [
    "ax = sns.countplot(x='date', data=ping_df, color='#6989AA')\n",
    "\n",
    "# make ticks on x-axis more readable by rotating the text and skipping some ticks\n",
    "ax.set_xticklabels(ax.get_xticklabels(), rotation=40, ha=\"right\")\n",
    "day_ticks = [day.get_text() for day in ax.get_xticklabels()]\n",
    "day_ticks_trimmed = [dt[:10] for dt in day_ticks]\n",
    "plt.xticks(range(0,len(day_ticks_trimmed),4),day_ticks_trimmed[::4])\n",
    "\n",
    "plt.tight_layout()\n",
    "plt.show()"
   ]
  },
  {
   "cell_type": "markdown",
   "metadata": {},
   "source": [
    "We observe that many entries (~1.2M) have a different date in the 'date' and 'timestamp' fields, which indicates a mistake since the date should be the same:"
   ]
  },
  {
   "cell_type": "code",
   "execution_count": 11,
   "metadata": {},
   "outputs": [
    {
     "data": {
      "text/html": [
       "<div>\n",
       "<style scoped>\n",
       "    .dataframe tbody tr th:only-of-type {\n",
       "        vertical-align: middle;\n",
       "    }\n",
       "\n",
       "    .dataframe tbody tr th {\n",
       "        vertical-align: top;\n",
       "    }\n",
       "\n",
       "    .dataframe thead th {\n",
       "        text-align: right;\n",
       "    }\n",
       "</style>\n",
       "<table border=\"1\" class=\"dataframe\">\n",
       "  <thead>\n",
       "    <tr style=\"text-align: right;\">\n",
       "      <th></th>\n",
       "      <th>date</th>\n",
       "      <th>timestamp</th>\n",
       "      <th>uid</th>\n",
       "      <th>isFirst</th>\n",
       "      <th>utmSource</th>\n",
       "    </tr>\n",
       "  </thead>\n",
       "  <tbody>\n",
       "    <tr>\n",
       "      <th>145865</th>\n",
       "      <td>2016-02-29</td>\n",
       "      <td>2016-03-01 00:00:00.022</td>\n",
       "      <td>61025283</td>\n",
       "      <td>False</td>\n",
       "      <td>Biznesowe+Rewolucje</td>\n",
       "    </tr>\n",
       "    <tr>\n",
       "      <th>145866</th>\n",
       "      <td>2016-02-29</td>\n",
       "      <td>2016-03-01 00:00:00.361</td>\n",
       "      <td>jAWH3jsbYWII</td>\n",
       "      <td>False</td>\n",
       "      <td>Biznesowe+Rewolucje</td>\n",
       "    </tr>\n",
       "    <tr>\n",
       "      <th>145867</th>\n",
       "      <td>2016-02-29</td>\n",
       "      <td>2016-03-01 00:00:01.001</td>\n",
       "      <td>59527934</td>\n",
       "      <td>False</td>\n",
       "      <td>None</td>\n",
       "    </tr>\n",
       "    <tr>\n",
       "      <th>145868</th>\n",
       "      <td>2016-02-29</td>\n",
       "      <td>2016-03-01 00:00:02.004</td>\n",
       "      <td>59946862</td>\n",
       "      <td>False</td>\n",
       "      <td>None</td>\n",
       "    </tr>\n",
       "    <tr>\n",
       "      <th>145869</th>\n",
       "      <td>2016-02-29</td>\n",
       "      <td>2016-03-01 00:00:02.973</td>\n",
       "      <td>oeFioSLEv0Hc</td>\n",
       "      <td>False</td>\n",
       "      <td>None</td>\n",
       "    </tr>\n",
       "    <tr>\n",
       "      <th>...</th>\n",
       "      <td>...</td>\n",
       "      <td>...</td>\n",
       "      <td>...</td>\n",
       "      <td>...</td>\n",
       "      <td>...</td>\n",
       "    </tr>\n",
       "    <tr>\n",
       "      <th>4823561</th>\n",
       "      <td>2016-02-06</td>\n",
       "      <td>2016-02-07 07:59:55.524</td>\n",
       "      <td>Owrk6WHGQ0jS</td>\n",
       "      <td>False</td>\n",
       "      <td>None</td>\n",
       "    </tr>\n",
       "    <tr>\n",
       "      <th>4823562</th>\n",
       "      <td>2016-02-06</td>\n",
       "      <td>2016-02-07 07:59:55.890</td>\n",
       "      <td>QLECxJO2VaIZ</td>\n",
       "      <td>False</td>\n",
       "      <td>Biznesowe+Rewolucje</td>\n",
       "    </tr>\n",
       "    <tr>\n",
       "      <th>4823563</th>\n",
       "      <td>2016-02-06</td>\n",
       "      <td>2016-02-07 07:59:57.185</td>\n",
       "      <td>58056634</td>\n",
       "      <td>False</td>\n",
       "      <td>shmoop_left</td>\n",
       "    </tr>\n",
       "    <tr>\n",
       "      <th>4823564</th>\n",
       "      <td>2016-02-06</td>\n",
       "      <td>2016-02-07 07:59:57.629</td>\n",
       "      <td>56936469</td>\n",
       "      <td>False</td>\n",
       "      <td>None</td>\n",
       "    </tr>\n",
       "    <tr>\n",
       "      <th>4823565</th>\n",
       "      <td>2016-02-06</td>\n",
       "      <td>2016-02-07 07:59:59.555</td>\n",
       "      <td>63953998</td>\n",
       "      <td>False</td>\n",
       "      <td>Biznesowe+Rewolucje</td>\n",
       "    </tr>\n",
       "  </tbody>\n",
       "</table>\n",
       "<p>1203358 rows × 5 columns</p>\n",
       "</div>"
      ],
      "text/plain": [
       "              date               timestamp           uid  isFirst  \\\n",
       "145865  2016-02-29 2016-03-01 00:00:00.022      61025283    False   \n",
       "145866  2016-02-29 2016-03-01 00:00:00.361  jAWH3jsbYWII    False   \n",
       "145867  2016-02-29 2016-03-01 00:00:01.001      59527934    False   \n",
       "145868  2016-02-29 2016-03-01 00:00:02.004      59946862    False   \n",
       "145869  2016-02-29 2016-03-01 00:00:02.973  oeFioSLEv0Hc    False   \n",
       "...            ...                     ...           ...      ...   \n",
       "4823561 2016-02-06 2016-02-07 07:59:55.524  Owrk6WHGQ0jS    False   \n",
       "4823562 2016-02-06 2016-02-07 07:59:55.890  QLECxJO2VaIZ    False   \n",
       "4823563 2016-02-06 2016-02-07 07:59:57.185      58056634    False   \n",
       "4823564 2016-02-06 2016-02-07 07:59:57.629      56936469    False   \n",
       "4823565 2016-02-06 2016-02-07 07:59:59.555      63953998    False   \n",
       "\n",
       "                   utmSource  \n",
       "145865   Biznesowe+Rewolucje  \n",
       "145866   Biznesowe+Rewolucje  \n",
       "145867                  None  \n",
       "145868                  None  \n",
       "145869                  None  \n",
       "...                      ...  \n",
       "4823561                 None  \n",
       "4823562  Biznesowe+Rewolucje  \n",
       "4823563          shmoop_left  \n",
       "4823564                 None  \n",
       "4823565  Biznesowe+Rewolucje  \n",
       "\n",
       "[1203358 rows x 5 columns]"
      ]
     },
     "execution_count": 11,
     "metadata": {},
     "output_type": "execute_result"
    }
   ],
   "source": [
    "ping_df[ping_df['date'].apply(lambda x:x.day)!=ping_df['timestamp'].apply(lambda x:x.day)]"
   ]
  },
  {
   "cell_type": "markdown",
   "metadata": {},
   "source": [
    "For those entries with the date mismatch, the date in the 'date' field is always one day before the date in the 'timestamp' field:"
   ]
  },
  {
   "cell_type": "code",
   "execution_count": 12,
   "metadata": {},
   "outputs": [
    {
     "data": {
      "text/plain": [
       "0 days     3607230\n",
       "-1 days    1203358\n",
       "dtype: int64"
      ]
     },
     "execution_count": 12,
     "metadata": {},
     "output_type": "execute_result"
    }
   ],
   "source": [
    "(ping_df['date'].dt.date-ping_df['timestamp'].dt.date).value_counts()"
   ]
  },
  {
   "cell_type": "markdown",
   "metadata": {},
   "source": [
    "We can also look at the distribution of times (e.g. hour of day) for the entries with the date mismatch:"
   ]
  },
  {
   "cell_type": "code",
   "execution_count": 13,
   "metadata": {},
   "outputs": [
    {
     "data": {
      "text/plain": [
       "timestamp_hour\n",
       "0    184719\n",
       "1    177036\n",
       "2    171445\n",
       "3    166603\n",
       "4    141389\n",
       "5    120498\n",
       "6    113984\n",
       "7    127684\n",
       "Name: timestamp, dtype: int64"
      ]
     },
     "execution_count": 13,
     "metadata": {},
     "output_type": "execute_result"
    }
   ],
   "source": [
    "# create dataframe containing only those entries\n",
    "different_date_df = ping_df[ping_df['date'].apply(lambda x:x.day)!=ping_df['timestamp'].apply(lambda x:x.day)].copy()\n",
    "\n",
    "# extract hour from 'timestamp'\n",
    "different_date_df['timestamp_hour'] = different_date_df['timestamp'].dt.hour\n",
    "\n",
    "# group by hour and look at counts for each hour\n",
    "different_date_df.groupby('timestamp_hour').count()['timestamp']"
   ]
  },
  {
   "cell_type": "markdown",
   "metadata": {},
   "source": [
    "and we can do the same for the entries without the date mismatch:"
   ]
  },
  {
   "cell_type": "code",
   "execution_count": 14,
   "metadata": {},
   "outputs": [
    {
     "data": {
      "text/plain": [
       "timestamp_hour\n",
       "8     159052\n",
       "9     156460\n",
       "10    145957\n",
       "11    166847\n",
       "12    210098\n",
       "13    275826\n",
       "14    321895\n",
       "15    325030\n",
       "16    307555\n",
       "17    276918\n",
       "18    243861\n",
       "19    224139\n",
       "20    213127\n",
       "21    202783\n",
       "22    193223\n",
       "23    184459\n",
       "Name: timestamp, dtype: int64"
      ]
     },
     "execution_count": 14,
     "metadata": {},
     "output_type": "execute_result"
    }
   ],
   "source": [
    "same_date_df = ping_df[ping_df['date'].apply(lambda x:x.day)==ping_df['timestamp'].apply(lambda x:x.day)].copy()\n",
    "same_date_df['timestamp_hour'] = same_date_df['timestamp'].dt.hour\n",
    "same_date_df.groupby('timestamp_hour').count()['timestamp']"
   ]
  },
  {
   "cell_type": "markdown",
   "metadata": {},
   "source": [
    "This is really interesting! The date mismatch problem occurs for pings happening between midnight and 8am. We noticed previously that the recorded timestamps strangely started at 8am on Feb 1st and ended at 8am on Mar 1st. This seems to indicate a possible error in recording the time in the timestamps (maybe due to time zone conversions or conventions?), as if all timestamps had been shifted by 8 hours (so that the first pings actually happened at midnight on Feb 1st instead of 8am and, similarly, the last pings in the dataset happened on Feb 29th instead of Mar 1st between midnight and 8am). Based on this, we decide to subtract 8 hours from all times in the timestamp column:"
   ]
  },
  {
   "cell_type": "code",
   "execution_count": 15,
   "metadata": {},
   "outputs": [],
   "source": [
    "ping_df['timestamp'] = pd.to_datetime(ping_df['timestamp']) - timedelta(hours=8)"
   ]
  },
  {
   "cell_type": "markdown",
   "metadata": {},
   "source": [
    "We verify that now, as expected, dates in the 'date' and 'timestamp' columns match and there are no mismatches:"
   ]
  },
  {
   "cell_type": "code",
   "execution_count": 16,
   "metadata": {},
   "outputs": [
    {
     "data": {
      "text/plain": [
       "0"
      ]
     },
     "execution_count": 16,
     "metadata": {},
     "output_type": "execute_result"
    }
   ],
   "source": [
    "sum(ping_df['date'].apply(lambda x:x.day)!=ping_df['timestamp'].apply(lambda x:x.day))"
   ]
  },
  {
   "cell_type": "markdown",
   "metadata": {},
   "source": [
    "### timestamp\n",
    "We observe that around 7,000 timestamps appear more than once. While it is possible that two pings happen exactly at the same time, it seems unlikely to have many such occurrences, since timestamps are recorded with a millisecond-level precision. This needs additional investigation as to understand whether the pings associated to these timestamps have something special or unusual in common (day or traffice source, for instance). Many simultaneous pings might be an indication of fraudolent networks or activities such as click spamming."
   ]
  },
  {
   "cell_type": "code",
   "execution_count": 17,
   "metadata": {},
   "outputs": [
    {
     "data": {
      "text/plain": [
       "2016-02-25 11:46:44.202    18\n",
       "2016-02-24 12:14:41.723    17\n",
       "2016-02-24 11:21:37.756    17\n",
       "2016-02-25 12:02:29.591    17\n",
       "2016-02-25 09:59:28.988    17\n",
       "                           ..\n",
       "2016-02-17 06:25:29.203     2\n",
       "2016-02-01 06:30:30.088     2\n",
       "2016-02-17 05:56:17.483     2\n",
       "2016-02-16 07:57:06.929     2\n",
       "2016-02-12 01:24:39.712     2\n",
       "Name: timestamp, Length: 7247, dtype: int64"
      ]
     },
     "execution_count": 17,
     "metadata": {},
     "output_type": "execute_result"
    }
   ],
   "source": [
    "ping_timestamp_vc = ping_df['timestamp'].value_counts()\n",
    "ping_timestamp_vc[ping_timestamp_vc>1]"
   ]
  },
  {
   "cell_type": "code",
   "execution_count": 18,
   "metadata": {},
   "outputs": [],
   "source": [
    "# create list of timestamps with count>1\n",
    "non_unique_timestamps_list = list(ping_timestamp_vc[ping_timestamp_vc>1].index)"
   ]
  },
  {
   "cell_type": "code",
   "execution_count": 19,
   "metadata": {},
   "outputs": [],
   "source": [
    "# create dataframe containing only those timestamps for further investigation\n",
    "non_unique_timestamps_ping_df = ping_df[ping_df['timestamp'].isin(non_unique_timestamps_list)]"
   ]
  },
  {
   "cell_type": "markdown",
   "metadata": {},
   "source": [
    "A quick check is to plot an histogram of the milliseconds recorded for the timestamps. We expect a uniform distribution over the range [0,999]:"
   ]
  },
  {
   "cell_type": "code",
   "execution_count": 20,
   "metadata": {},
   "outputs": [
    {
     "data": {
      "text/plain": [
       "<matplotlib.axes._subplots.AxesSubplot at 0x7f71c6ecae50>"
      ]
     },
     "execution_count": 20,
     "metadata": {},
     "output_type": "execute_result"
    },
    {
     "data": {
      "image/png": "[encoded data removed]",
      "text/plain": [
       "<Figure size 432x288 with 1 Axes>"
      ]
     },
     "metadata": {
      "needs_background": "light"
     },
     "output_type": "display_data"
    }
   ],
   "source": [
    "ping_df['timestamp'].apply(lambda x:pd.to_datetime(x).microsecond/1000).hist(bins=50)"
   ]
  },
  {
   "cell_type": "markdown",
   "metadata": {},
   "source": [
    "Since the distribution looks uniform, we can assume that the timestamps are indeed recorded with millisecond precision. A non-uniform distribution would have indicated the presence of some strange pattern in how timestamps are recorded. This also substantiates the need for further investigation on frequent timestamps. Their distribution is non uniform, as expected:"
   ]
  },
  {
   "cell_type": "code",
   "execution_count": 21,
   "metadata": {},
   "outputs": [
    {
     "data": {
      "text/plain": [
       "<matplotlib.axes._subplots.AxesSubplot at 0x7f71c6e1f890>"
      ]
     },
     "execution_count": 21,
     "metadata": {},
     "output_type": "execute_result"
    },
    {
     "data": {
      "image/png": "[encoded data removed]",
      "text/plain": [
       "<Figure size 432x288 with 1 Axes>"
      ]
     },
     "metadata": {
      "needs_background": "light"
     },
     "output_type": "display_data"
    }
   ],
   "source": [
    "non_unique_timestamps_ping_df['timestamp'].apply(lambda x:pd.to_datetime(x).microsecond/1000).hist(bins=50)"
   ]
  },
  {
   "cell_type": "markdown",
   "metadata": {},
   "source": [
    "Finally, we can look at the distribution of the times in the 'timestamp' column, for instance by hour of day:"
   ]
  },
  {
   "cell_type": "code",
   "execution_count": 22,
   "metadata": {},
   "outputs": [],
   "source": [
    "# extract hour from 'timestamp'\n",
    "ping_df['timestamp_hour'] = ping_df['timestamp'].dt.hour"
   ]
  },
  {
   "cell_type": "code",
   "execution_count": 23,
   "metadata": {},
   "outputs": [
    {
     "data": {
      "image/png": "[encoded data removed]",
      "text/plain": [
       "<Figure size 432x288 with 1 Axes>"
      ]
     },
     "metadata": {
      "needs_background": "light"
     },
     "output_type": "display_data"
    }
   ],
   "source": [
    "ax = sns.countplot(x='timestamp_hour', data=ping_df, color='#6989AA')\n",
    "plt.tight_layout()\n",
    "plt.show()"
   ]
  },
  {
   "cell_type": "markdown",
   "metadata": {},
   "source": [
    "This is another interesting plot, as it shows that the times with the most pings are between 6-8am. Without additional information on what the app is used for, what reference time zone is used to record timestamps, and whether users open the app from only one or multiple time zones, it is hard to understand why the peak hours are 6-8am. However, under the assumptions that 1. the reference time zone in the dataset is US Pacific Time, 2. users open the app from around the world, and 3. the app is used for work-related tasks, a plot like this would certainly make sense, as 6-8am PT is 9-11am ET and 3-5pm in Central Europe, which are peak working hours."
   ]
  },
  {
   "cell_type": "markdown",
   "metadata": {},
   "source": [
    "### uid\n",
    "We observe around 180,000 registered users (purely numeric uid):"
   ]
  },
  {
   "cell_type": "code",
   "execution_count": 24,
   "metadata": {},
   "outputs": [
    {
     "data": {
      "text/plain": [
       "180009"
      ]
     },
     "execution_count": 24,
     "metadata": {},
     "output_type": "execute_result"
    }
   ],
   "source": [
    "sum([str(elem).isnumeric() for elem in list(ping_df['uid'].unique())])"
   ]
  },
  {
   "cell_type": "markdown",
   "metadata": {},
   "source": [
    "We create a boolean 'registered_user' column for later convenience."
   ]
  },
  {
   "cell_type": "code",
   "execution_count": 25,
   "metadata": {},
   "outputs": [],
   "source": [
    "ping_df['registered_user'] = ping_df['uid'].apply(lambda x:str(x).isnumeric())"
   ]
  },
  {
   "cell_type": "markdown",
   "metadata": {},
   "source": [
    "### isFirst\n",
    "We check the distribution of True and False and observe that it is highly imbalanced (as expected)."
   ]
  },
  {
   "cell_type": "code",
   "execution_count": 26,
   "metadata": {},
   "outputs": [
    {
     "data": {
      "text/plain": [
       "False    0.981989\n",
       "True     0.018011\n",
       "Name: isFirst, dtype: float64"
      ]
     },
     "execution_count": 26,
     "metadata": {},
     "output_type": "execute_result"
    }
   ],
   "source": [
    "ping_df['isFirst'].value_counts()/len(ping_df['isFirst'])"
   ]
  },
  {
   "cell_type": "markdown",
   "metadata": {},
   "source": [
    "Each 'uid' should have at most one instance of isFirst=True in the dataset (an uid could have zero instances of isFirst=True if its first ping ever was before February 2016). We observe that for 45 'uid' this is not the case."
   ]
  },
  {
   "cell_type": "code",
   "execution_count": 27,
   "metadata": {},
   "outputs": [
    {
     "data": {
      "text/plain": [
       "45"
      ]
     },
     "execution_count": 27,
     "metadata": {},
     "output_type": "execute_result"
    }
   ],
   "source": [
    "sum(ping_df[['uid','isFirst']].groupby(['uid']).sum()['isFirst']>1.0)"
   ]
  },
  {
   "cell_type": "code",
   "execution_count": 28,
   "metadata": {},
   "outputs": [],
   "source": [
    "# create grouped dataframe with isFirst count for each 'uid'\n",
    "isFirst_count_ping_df = ping_df[['uid','isFirst']].groupby(['uid']).sum().reset_index()"
   ]
  },
  {
   "cell_type": "code",
   "execution_count": 29,
   "metadata": {},
   "outputs": [],
   "source": [
    "# create list of 'uid' that have more than one isFirst=True\n",
    "double_isFirst_uid_list = list(isFirst_count_ping_df[isFirst_count_ping_df['isFirst']>1.0]['uid'])"
   ]
  },
  {
   "cell_type": "markdown",
   "metadata": {},
   "source": [
    "Dataframe containing only uid that have more than one isFirst=True. This needs to be investigated. One way to fix these entries in the dataset would be to change the later entry to isFirst=False."
   ]
  },
  {
   "cell_type": "code",
   "execution_count": 30,
   "metadata": {},
   "outputs": [],
   "source": [
    "# create datagrame with double isFirst=True entries\n",
    "double_isFirst_df = ping_df[ping_df['uid'].isin(double_isFirst_uid_list) & ping_df['isFirst']][['uid','timestamp']]"
   ]
  },
  {
   "cell_type": "markdown",
   "metadata": {},
   "source": [
    "We can compute and plot the time difference (in seconds) between the two isFirst=True pings for each uid:"
   ]
  },
  {
   "cell_type": "code",
   "execution_count": 31,
   "metadata": {
    "scrolled": true
   },
   "outputs": [
    {
     "data": {
      "image/png": "[encoded data removed]",
      "text/plain": [
       "<Figure size 432x288 with 1 Axes>"
      ]
     },
     "metadata": {
      "needs_background": "light"
     },
     "output_type": "display_data"
    }
   ],
   "source": [
    "# compute time difference between the two isFirst=True pings for each uid\n",
    "double_isFirst_df['diff']=double_isFirst_df.groupby(['uid']).diff()\n",
    "\n",
    "# plot histogram of time differences between the two isFirst=True pings\n",
    "double_isFirst_df[double_isFirst_df['diff'].notnull()]['diff'].astype('timedelta64[s]').hist(bins=50)\n",
    "plt.show()"
   ]
  },
  {
   "cell_type": "markdown",
   "metadata": {},
   "source": [
    "Similarly, 'isFirst'=True should by definition correspond to the minimum timestamp for that user. For 44 'uid' this is not the case."
   ]
  },
  {
   "cell_type": "code",
   "execution_count": 32,
   "metadata": {},
   "outputs": [],
   "source": [
    "# create list of 'uid' with isFirst=True\n",
    "isFirst_uid_list = list(ping_df[ping_df['isFirst']]['uid'].unique())"
   ]
  },
  {
   "cell_type": "code",
   "execution_count": 33,
   "metadata": {},
   "outputs": [],
   "source": [
    "# create dataframe with minimum timestamp and timestamp corresponding to isFirst=True\n",
    "timestamp_comparison_df = ping_df[ping_df['uid'].isin(isFirst_uid_list)].groupby(['uid']).agg({'timestamp':'min'}).reset_index().merge(ping_df[ping_df['isFirst']],on=['uid'])"
   ]
  },
  {
   "cell_type": "code",
   "execution_count": 34,
   "metadata": {},
   "outputs": [
    {
     "data": {
      "text/html": [
       "<div>\n",
       "<style scoped>\n",
       "    .dataframe tbody tr th:only-of-type {\n",
       "        vertical-align: middle;\n",
       "    }\n",
       "\n",
       "    .dataframe tbody tr th {\n",
       "        vertical-align: top;\n",
       "    }\n",
       "\n",
       "    .dataframe thead th {\n",
       "        text-align: right;\n",
       "    }\n",
       "</style>\n",
       "<table border=\"1\" class=\"dataframe\">\n",
       "  <thead>\n",
       "    <tr style=\"text-align: right;\">\n",
       "      <th></th>\n",
       "      <th>uid</th>\n",
       "      <th>timestamp_x</th>\n",
       "      <th>date</th>\n",
       "      <th>timestamp_y</th>\n",
       "      <th>isFirst</th>\n",
       "      <th>utmSource</th>\n",
       "      <th>timestamp_hour</th>\n",
       "      <th>registered_user</th>\n",
       "    </tr>\n",
       "  </thead>\n",
       "  <tbody>\n",
       "    <tr>\n",
       "      <th>3760</th>\n",
       "      <td>50569954</td>\n",
       "      <td>2016-02-23 09:52:13.091</td>\n",
       "      <td>2016-02-23</td>\n",
       "      <td>2016-02-23 11:16:44.764</td>\n",
       "      <td>True</td>\n",
       "      <td>Biznesowe+Rewolucje</td>\n",
       "      <td>11</td>\n",
       "      <td>True</td>\n",
       "    </tr>\n",
       "    <tr>\n",
       "      <th>3765</th>\n",
       "      <td>50571665</td>\n",
       "      <td>2016-02-23 09:52:13.091</td>\n",
       "      <td>2016-02-23</td>\n",
       "      <td>2016-02-23 11:16:44.764</td>\n",
       "      <td>True</td>\n",
       "      <td>Biznesowe+Rewolucje</td>\n",
       "      <td>11</td>\n",
       "      <td>True</td>\n",
       "    </tr>\n",
       "    <tr>\n",
       "      <th>4032</th>\n",
       "      <td>50707349</td>\n",
       "      <td>2016-02-14 13:30:32.080</td>\n",
       "      <td>2016-02-14</td>\n",
       "      <td>2016-02-14 13:52:46.586</td>\n",
       "      <td>True</td>\n",
       "      <td>None</td>\n",
       "      <td>13</td>\n",
       "      <td>True</td>\n",
       "    </tr>\n",
       "    <tr>\n",
       "      <th>6349</th>\n",
       "      <td>52010378</td>\n",
       "      <td>2016-02-23 09:52:13.091</td>\n",
       "      <td>2016-02-23</td>\n",
       "      <td>2016-02-23 11:16:44.764</td>\n",
       "      <td>True</td>\n",
       "      <td>Biznesowe+Rewolucje</td>\n",
       "      <td>11</td>\n",
       "      <td>True</td>\n",
       "    </tr>\n",
       "    <tr>\n",
       "      <th>6583</th>\n",
       "      <td>52132056</td>\n",
       "      <td>2016-02-01 11:27:09.629</td>\n",
       "      <td>2016-02-01</td>\n",
       "      <td>2016-02-01 11:31:17.773</td>\n",
       "      <td>True</td>\n",
       "      <td>None</td>\n",
       "      <td>11</td>\n",
       "      <td>True</td>\n",
       "    </tr>\n",
       "  </tbody>\n",
       "</table>\n",
       "</div>"
      ],
      "text/plain": [
       "           uid             timestamp_x       date             timestamp_y  \\\n",
       "3760  50569954 2016-02-23 09:52:13.091 2016-02-23 2016-02-23 11:16:44.764   \n",
       "3765  50571665 2016-02-23 09:52:13.091 2016-02-23 2016-02-23 11:16:44.764   \n",
       "4032  50707349 2016-02-14 13:30:32.080 2016-02-14 2016-02-14 13:52:46.586   \n",
       "6349  52010378 2016-02-23 09:52:13.091 2016-02-23 2016-02-23 11:16:44.764   \n",
       "6583  52132056 2016-02-01 11:27:09.629 2016-02-01 2016-02-01 11:31:17.773   \n",
       "\n",
       "      isFirst            utmSource  timestamp_hour  registered_user  \n",
       "3760     True  Biznesowe+Rewolucje              11             True  \n",
       "3765     True  Biznesowe+Rewolucje              11             True  \n",
       "4032     True                 None              13             True  \n",
       "6349     True  Biznesowe+Rewolucje              11             True  \n",
       "6583     True                 None              11             True  "
      ]
     },
     "execution_count": 34,
     "metadata": {},
     "output_type": "execute_result"
    }
   ],
   "source": [
    "# 'uid' for which minimum timestamp != timestamp with isFirst=True (and that do not belong to double isFirst=True group)\n",
    "timestamp_comparison_df[(timestamp_comparison_df['timestamp_x']!=timestamp_comparison_df['timestamp_y']) & ~timestamp_comparison_df['uid'].isin(double_isFirst_uid_list)].head()"
   ]
  },
  {
   "cell_type": "code",
   "execution_count": 35,
   "metadata": {},
   "outputs": [
    {
     "data": {
      "text/plain": [
       "44"
      ]
     },
     "execution_count": 35,
     "metadata": {},
     "output_type": "execute_result"
    }
   ],
   "source": [
    "len(timestamp_comparison_df[(timestamp_comparison_df['timestamp_x']!=timestamp_comparison_df['timestamp_y']) & ~timestamp_comparison_df['uid'].isin(double_isFirst_uid_list)])"
   ]
  },
  {
   "cell_type": "markdown",
   "metadata": {},
   "source": [
    "### utmSource\n",
    "By uncommenting the following line we can observe that there are some duplicate sources with different spellings (e.g. facebook vs facebook.com vs Facebook_org). We also know that this field has missing values (=None)."
   ]
  },
  {
   "cell_type": "code",
   "execution_count": 36,
   "metadata": {},
   "outputs": [],
   "source": [
    "# sorted(ping_df[ping_df['utmSource'].notnull()]['utmSource'].unique())"
   ]
  },
  {
   "cell_type": "markdown",
   "metadata": {},
   "source": [
    "We put categories together when it is obvious that they represent the same source. More work could be done to understand whether other sources can be put together."
   ]
  },
  {
   "cell_type": "code",
   "execution_count": 37,
   "metadata": {},
   "outputs": [],
   "source": [
    "ping_df['utmSource'].replace({'Twitter_org':'twitter',\n",
    "                              'facebook.com':'facebook','Facebook_org':'facebook',\n",
    "                              'Blog_org':'blog',\n",
    "                              'shmoop_left':'shmoop','shmoop_logo':'shmoop','shmoop_right':'shmoop'},inplace=True)"
   ]
  },
  {
   "cell_type": "markdown",
   "metadata": {},
   "source": [
    "Most 'uid' have only one traffic source, but 60 have two. This needs to be investigated further."
   ]
  },
  {
   "cell_type": "code",
   "execution_count": 38,
   "metadata": {},
   "outputs": [
    {
     "data": {
      "text/plain": [
       "1    147677\n",
       "0     99103\n",
       "2        60\n",
       "Name: utmSource, dtype: int64"
      ]
     },
     "execution_count": 38,
     "metadata": {},
     "output_type": "execute_result"
    }
   ],
   "source": [
    "ping_df.groupby(['uid']).agg({'utmSource':'nunique'})['utmSource'].value_counts()"
   ]
  },
  {
   "cell_type": "markdown",
   "metadata": {},
   "source": [
    "# Daily Active Users\n",
    "We track and measure DAUs for each day in February 2016."
   ]
  },
  {
   "cell_type": "code",
   "execution_count": 39,
   "metadata": {},
   "outputs": [],
   "source": [
    "# group by date and count unique uid for each day\n",
    "DAU_df = ping_df.groupby(['date']).agg({'uid': 'nunique'}).reset_index()"
   ]
  },
  {
   "cell_type": "code",
   "execution_count": 40,
   "metadata": {},
   "outputs": [],
   "source": [
    "# group by date and count unique registered uid for each day\n",
    "DAU_registered_df = ping_df[ping_df['registered_user']].groupby(['date']).agg({'uid': 'nunique'}).reset_index()"
   ]
  },
  {
   "cell_type": "code",
   "execution_count": 41,
   "metadata": {},
   "outputs": [],
   "source": [
    "# merge dataframes on date\n",
    "DAU_df = DAU_df.merge(DAU_registered_df,on='date')\n",
    "DAU_df.rename({'uid_x':'total_DAU','uid_y':'registered_DAU'},axis=1,inplace=True)\n",
    "DAU_df['registered_ratio'] = DAU_df['registered_DAU']/DAU_df['total_DAU']"
   ]
  },
  {
   "cell_type": "code",
   "execution_count": 42,
   "metadata": {},
   "outputs": [
    {
     "data": {
      "image/png": "[encoded data removed]",
      "text/plain": [
       "<Figure size 432x288 with 1 Axes>"
      ]
     },
     "metadata": {
      "needs_background": "light"
     },
     "output_type": "display_data"
    }
   ],
   "source": [
    "# plot daily active users over the month\n",
    "fig, ax = plt.subplots()\n",
    "\n",
    "DAU_df_dates = DAU_df['date'].apply(lambda x:str(x)[:10])\n",
    "ax.plot(DAU_df_dates, DAU_df['total_DAU'], label='Total DAUs', linewidth=2.0)\n",
    "ax.plot(DAU_df_dates, DAU_df['registered_DAU'], label='Registered DAUs', linewidth=2.0)\n",
    "ax.plot(DAU_df_dates, DAU_df['total_DAU']-DAU_df['registered_DAU'], label='Device DAUs', linewidth=2.0)\n",
    "\n",
    "ax.legend(fontsize=12,bbox_to_anchor=(0.98,0.5))\n",
    "ax.set_xticklabels(ax.get_xticklabels(), rotation=40, ha=\"right\")\n",
    "plt.xticks(range(0,len(day_ticks_trimmed),4),day_ticks_trimmed[::4])\n",
    "\n",
    "for axis in ['top','bottom','left','right']:\n",
    "    ax.spines[axis].set_linewidth(1.2)\n",
    "\n",
    "for tick in ax.xaxis.get_major_ticks():\n",
    "    tick.label.set_fontsize(12) \n",
    "\n",
    "for tick in ax.yaxis.get_major_ticks():\n",
    "    tick.label.set_fontsize(12)\n",
    "    \n",
    "plt.tight_layout()\n",
    "plt.title('Daily Active Users - February 2016', fontdict = {'fontsize':16})\n",
    "plt.savefig('./plots/DAU_plot.jpg', bbox_inches='tight', dpi=300)\n",
    "plt.show()"
   ]
  },
  {
   "cell_type": "code",
   "execution_count": 43,
   "metadata": {},
   "outputs": [
    {
     "data": {
      "text/html": [
       "<div>\n",
       "<style scoped>\n",
       "    .dataframe tbody tr th:only-of-type {\n",
       "        vertical-align: middle;\n",
       "    }\n",
       "\n",
       "    .dataframe tbody tr th {\n",
       "        vertical-align: top;\n",
       "    }\n",
       "\n",
       "    .dataframe thead th {\n",
       "        text-align: right;\n",
       "    }\n",
       "</style>\n",
       "<table border=\"1\" class=\"dataframe\">\n",
       "  <thead>\n",
       "    <tr style=\"text-align: right;\">\n",
       "      <th></th>\n",
       "      <th>date</th>\n",
       "      <th>total_DAU</th>\n",
       "      <th>registered_DAU</th>\n",
       "      <th>registered_ratio</th>\n",
       "    </tr>\n",
       "  </thead>\n",
       "  <tbody>\n",
       "    <tr>\n",
       "      <th>0</th>\n",
       "      <td>2016-02-01</td>\n",
       "      <td>112504</td>\n",
       "      <td>90146</td>\n",
       "      <td>0.801269</td>\n",
       "    </tr>\n",
       "    <tr>\n",
       "      <th>1</th>\n",
       "      <td>2016-02-02</td>\n",
       "      <td>112317</td>\n",
       "      <td>90276</td>\n",
       "      <td>0.803761</td>\n",
       "    </tr>\n",
       "    <tr>\n",
       "      <th>2</th>\n",
       "      <td>2016-02-03</td>\n",
       "      <td>113062</td>\n",
       "      <td>90931</td>\n",
       "      <td>0.804258</td>\n",
       "    </tr>\n",
       "    <tr>\n",
       "      <th>3</th>\n",
       "      <td>2016-02-04</td>\n",
       "      <td>111098</td>\n",
       "      <td>89500</td>\n",
       "      <td>0.805595</td>\n",
       "    </tr>\n",
       "    <tr>\n",
       "      <th>4</th>\n",
       "      <td>2016-02-05</td>\n",
       "      <td>102420</td>\n",
       "      <td>82596</td>\n",
       "      <td>0.806444</td>\n",
       "    </tr>\n",
       "    <tr>\n",
       "      <th>5</th>\n",
       "      <td>2016-02-06</td>\n",
       "      <td>94807</td>\n",
       "      <td>76566</td>\n",
       "      <td>0.807599</td>\n",
       "    </tr>\n",
       "    <tr>\n",
       "      <th>6</th>\n",
       "      <td>2016-02-07</td>\n",
       "      <td>104175</td>\n",
       "      <td>84426</td>\n",
       "      <td>0.810425</td>\n",
       "    </tr>\n",
       "    <tr>\n",
       "      <th>7</th>\n",
       "      <td>2016-02-08</td>\n",
       "      <td>114802</td>\n",
       "      <td>92824</td>\n",
       "      <td>0.808557</td>\n",
       "    </tr>\n",
       "    <tr>\n",
       "      <th>8</th>\n",
       "      <td>2016-02-09</td>\n",
       "      <td>115859</td>\n",
       "      <td>93816</td>\n",
       "      <td>0.809743</td>\n",
       "    </tr>\n",
       "    <tr>\n",
       "      <th>9</th>\n",
       "      <td>2016-02-10</td>\n",
       "      <td>117113</td>\n",
       "      <td>95003</td>\n",
       "      <td>0.811208</td>\n",
       "    </tr>\n",
       "    <tr>\n",
       "      <th>10</th>\n",
       "      <td>2016-02-11</td>\n",
       "      <td>115290</td>\n",
       "      <td>93689</td>\n",
       "      <td>0.812638</td>\n",
       "    </tr>\n",
       "    <tr>\n",
       "      <th>11</th>\n",
       "      <td>2016-02-12</td>\n",
       "      <td>106132</td>\n",
       "      <td>86184</td>\n",
       "      <td>0.812045</td>\n",
       "    </tr>\n",
       "    <tr>\n",
       "      <th>12</th>\n",
       "      <td>2016-02-13</td>\n",
       "      <td>97788</td>\n",
       "      <td>79476</td>\n",
       "      <td>0.812738</td>\n",
       "    </tr>\n",
       "    <tr>\n",
       "      <th>13</th>\n",
       "      <td>2016-02-14</td>\n",
       "      <td>106158</td>\n",
       "      <td>86269</td>\n",
       "      <td>0.812647</td>\n",
       "    </tr>\n",
       "    <tr>\n",
       "      <th>14</th>\n",
       "      <td>2016-02-15</td>\n",
       "      <td>119409</td>\n",
       "      <td>97200</td>\n",
       "      <td>0.814009</td>\n",
       "    </tr>\n",
       "    <tr>\n",
       "      <th>15</th>\n",
       "      <td>2016-02-16</td>\n",
       "      <td>120874</td>\n",
       "      <td>98217</td>\n",
       "      <td>0.812557</td>\n",
       "    </tr>\n",
       "    <tr>\n",
       "      <th>16</th>\n",
       "      <td>2016-02-17</td>\n",
       "      <td>122053</td>\n",
       "      <td>99317</td>\n",
       "      <td>0.813720</td>\n",
       "    </tr>\n",
       "    <tr>\n",
       "      <th>17</th>\n",
       "      <td>2016-02-18</td>\n",
       "      <td>120374</td>\n",
       "      <td>98158</td>\n",
       "      <td>0.815442</td>\n",
       "    </tr>\n",
       "    <tr>\n",
       "      <th>18</th>\n",
       "      <td>2016-02-19</td>\n",
       "      <td>112452</td>\n",
       "      <td>91678</td>\n",
       "      <td>0.815263</td>\n",
       "    </tr>\n",
       "    <tr>\n",
       "      <th>19</th>\n",
       "      <td>2016-02-20</td>\n",
       "      <td>104665</td>\n",
       "      <td>85544</td>\n",
       "      <td>0.817312</td>\n",
       "    </tr>\n",
       "    <tr>\n",
       "      <th>20</th>\n",
       "      <td>2016-02-21</td>\n",
       "      <td>120306</td>\n",
       "      <td>98509</td>\n",
       "      <td>0.818820</td>\n",
       "    </tr>\n",
       "    <tr>\n",
       "      <th>21</th>\n",
       "      <td>2016-02-22</td>\n",
       "      <td>130017</td>\n",
       "      <td>106172</td>\n",
       "      <td>0.816601</td>\n",
       "    </tr>\n",
       "    <tr>\n",
       "      <th>22</th>\n",
       "      <td>2016-02-23</td>\n",
       "      <td>131707</td>\n",
       "      <td>107759</td>\n",
       "      <td>0.818172</td>\n",
       "    </tr>\n",
       "    <tr>\n",
       "      <th>23</th>\n",
       "      <td>2016-02-24</td>\n",
       "      <td>131947</td>\n",
       "      <td>108126</td>\n",
       "      <td>0.819465</td>\n",
       "    </tr>\n",
       "    <tr>\n",
       "      <th>24</th>\n",
       "      <td>2016-02-25</td>\n",
       "      <td>130334</td>\n",
       "      <td>106695</td>\n",
       "      <td>0.818628</td>\n",
       "    </tr>\n",
       "    <tr>\n",
       "      <th>25</th>\n",
       "      <td>2016-02-26</td>\n",
       "      <td>120658</td>\n",
       "      <td>98663</td>\n",
       "      <td>0.817708</td>\n",
       "    </tr>\n",
       "    <tr>\n",
       "      <th>26</th>\n",
       "      <td>2016-02-27</td>\n",
       "      <td>112789</td>\n",
       "      <td>92439</td>\n",
       "      <td>0.819575</td>\n",
       "    </tr>\n",
       "    <tr>\n",
       "      <th>27</th>\n",
       "      <td>2016-02-28</td>\n",
       "      <td>128096</td>\n",
       "      <td>105117</td>\n",
       "      <td>0.820611</td>\n",
       "    </tr>\n",
       "    <tr>\n",
       "      <th>28</th>\n",
       "      <td>2016-02-29</td>\n",
       "      <td>138644</td>\n",
       "      <td>113479</td>\n",
       "      <td>0.818492</td>\n",
       "    </tr>\n",
       "  </tbody>\n",
       "</table>\n",
       "</div>"
      ],
      "text/plain": [
       "         date  total_DAU  registered_DAU  registered_ratio\n",
       "0  2016-02-01     112504           90146          0.801269\n",
       "1  2016-02-02     112317           90276          0.803761\n",
       "2  2016-02-03     113062           90931          0.804258\n",
       "3  2016-02-04     111098           89500          0.805595\n",
       "4  2016-02-05     102420           82596          0.806444\n",
       "5  2016-02-06      94807           76566          0.807599\n",
       "6  2016-02-07     104175           84426          0.810425\n",
       "7  2016-02-08     114802           92824          0.808557\n",
       "8  2016-02-09     115859           93816          0.809743\n",
       "9  2016-02-10     117113           95003          0.811208\n",
       "10 2016-02-11     115290           93689          0.812638\n",
       "11 2016-02-12     106132           86184          0.812045\n",
       "12 2016-02-13      97788           79476          0.812738\n",
       "13 2016-02-14     106158           86269          0.812647\n",
       "14 2016-02-15     119409           97200          0.814009\n",
       "15 2016-02-16     120874           98217          0.812557\n",
       "16 2016-02-17     122053           99317          0.813720\n",
       "17 2016-02-18     120374           98158          0.815442\n",
       "18 2016-02-19     112452           91678          0.815263\n",
       "19 2016-02-20     104665           85544          0.817312\n",
       "20 2016-02-21     120306           98509          0.818820\n",
       "21 2016-02-22     130017          106172          0.816601\n",
       "22 2016-02-23     131707          107759          0.818172\n",
       "23 2016-02-24     131947          108126          0.819465\n",
       "24 2016-02-25     130334          106695          0.818628\n",
       "25 2016-02-26     120658           98663          0.817708\n",
       "26 2016-02-27     112789           92439          0.819575\n",
       "27 2016-02-28     128096          105117          0.820611\n",
       "28 2016-02-29     138644          113479          0.818492"
      ]
     },
     "execution_count": 43,
     "metadata": {},
     "output_type": "execute_result"
    }
   ],
   "source": [
    "DAU_df"
   ]
  },
  {
   "cell_type": "markdown",
   "metadata": {},
   "source": [
    "# Cohort-Based Retention Curves\n",
    "We track daily cohort-based retention curves for selected dates."
   ]
  },
  {
   "cell_type": "code",
   "execution_count": 44,
   "metadata": {},
   "outputs": [],
   "source": [
    "def daily_retention_curve(start_date,ping_df):\n",
    "    \n",
    "    # cohort of uid with first ping on selected date\n",
    "    cohort_uid = set(ping_df[(ping_df['date']==start_date) & ping_df['isFirst']]['uid'])\n",
    "    \n",
    "    # for cohort uid and dates after selected date, group by timestamp_date and count unique cohort uid for each day\n",
    "    daily_retention_df = ping_df[(ping_df['date']>=start_date) & ping_df['uid'].isin(cohort_uid)].groupby('date').agg({'uid': 'nunique'}).reset_index()\n",
    "    daily_retention_df.rename({'uid':'% of Users'},axis=1,inplace=True)\n",
    "                      \n",
    "    # normalize to obtain percentages                  \n",
    "    daily_retention_df['% of Users']=100*daily_retention_df['% of Users']/len(cohort_uid)\n",
    "\n",
    "    # create ticks for plot x-axis as Day 0, Day 1, ... from selected date                  \n",
    "    rescaled_dates = ['Day ' + str((pd.to_datetime(date)-pd.to_datetime(start_date)).days) for date in daily_retention_df['date']]\n",
    "\n",
    "    return len(cohort_uid),rescaled_dates,daily_retention_df"
   ]
  },
  {
   "cell_type": "code",
   "execution_count": 45,
   "metadata": {},
   "outputs": [
    {
     "data": {
      "image/png": "[encoded data removed]",
      "text/plain": [
       "<Figure size 432x288 with 1 Axes>"
      ]
     },
     "metadata": {
      "needs_background": "light"
     },
     "output_type": "display_data"
    }
   ],
   "source": [
    "# plot daily retention curves\n",
    "start_dates=sorted(['2016-02-04','2016-02-10','2016-02-14'], reverse=True)\n",
    "\n",
    "fig, ax = plt.subplots()\n",
    "\n",
    "for start_date in start_dates:\n",
    "    cohort_size,rescaled_dates,daily_retention_df = daily_retention_curve(start_date,ping_df)\n",
    "    legend_label=start_date[5:] + '. New users: ' + str(cohort_size)\n",
    "    \n",
    "    ax.plot(rescaled_dates, daily_retention_df['% of Users'],  linewidth=2.5, label=legend_label)\n",
    "    ax.set_xticklabels(ax.get_xticklabels(), rotation=40, ha=\"right\")\n",
    "    plt.xticks(range(0,len(rescaled_dates),2),rescaled_dates[::2])\n",
    "\n",
    "for axis in ['top','bottom','left','right']:\n",
    "    ax.spines[axis].set_linewidth(1.2)\n",
    "    \n",
    "for tick in ax.xaxis.get_major_ticks():\n",
    "    tick.label.set_fontsize(12) \n",
    "\n",
    "for tick in ax.yaxis.get_major_ticks():\n",
    "    tick.label.set_fontsize(12)\n",
    "    \n",
    "ax.vlines(['Day 2','Day 7','Day 14'], 0, 1, transform=ax.get_xaxis_transform(), linestyle='dashed', color='0.75')\n",
    "ax.set_ylim([25,105])\n",
    "ax.legend(fontsize=12,bbox_to_anchor=(1.0,1.0))    \n",
    "plt.tight_layout()\n",
    "plt.title('Daily Retention', fontdict = {'fontsize':16})\n",
    "plt.ylabel('%', fontsize=12)\n",
    "plt.savefig('./plots/DR_plot.jpg', bbox_inches='tight', dpi=300)\n",
    "plt.show()"
   ]
  },
  {
   "cell_type": "code",
   "execution_count": 46,
   "metadata": {},
   "outputs": [
    {
     "data": {
      "text/html": [
       "<div>\n",
       "<style scoped>\n",
       "    .dataframe tbody tr th:only-of-type {\n",
       "        vertical-align: middle;\n",
       "    }\n",
       "\n",
       "    .dataframe tbody tr th {\n",
       "        vertical-align: top;\n",
       "    }\n",
       "\n",
       "    .dataframe thead th {\n",
       "        text-align: right;\n",
       "    }\n",
       "</style>\n",
       "<table border=\"1\" class=\"dataframe\">\n",
       "  <thead>\n",
       "    <tr style=\"text-align: right;\">\n",
       "      <th></th>\n",
       "      <th>date</th>\n",
       "      <th>% of Users</th>\n",
       "    </tr>\n",
       "  </thead>\n",
       "  <tbody>\n",
       "    <tr>\n",
       "      <th>0</th>\n",
       "      <td>2016-02-04</td>\n",
       "      <td>100.000000</td>\n",
       "    </tr>\n",
       "    <tr>\n",
       "      <th>1</th>\n",
       "      <td>2016-02-05</td>\n",
       "      <td>54.478976</td>\n",
       "    </tr>\n",
       "    <tr>\n",
       "      <th>2</th>\n",
       "      <td>2016-02-06</td>\n",
       "      <td>43.948812</td>\n",
       "    </tr>\n",
       "    <tr>\n",
       "      <th>3</th>\n",
       "      <td>2016-02-07</td>\n",
       "      <td>46.288848</td>\n",
       "    </tr>\n",
       "    <tr>\n",
       "      <th>4</th>\n",
       "      <td>2016-02-08</td>\n",
       "      <td>48.007313</td>\n",
       "    </tr>\n",
       "    <tr>\n",
       "      <th>5</th>\n",
       "      <td>2016-02-09</td>\n",
       "      <td>44.095064</td>\n",
       "    </tr>\n",
       "    <tr>\n",
       "      <th>6</th>\n",
       "      <td>2016-02-10</td>\n",
       "      <td>43.765996</td>\n",
       "    </tr>\n",
       "    <tr>\n",
       "      <th>7</th>\n",
       "      <td>2016-02-11</td>\n",
       "      <td>43.290676</td>\n",
       "    </tr>\n",
       "    <tr>\n",
       "      <th>8</th>\n",
       "      <td>2016-02-12</td>\n",
       "      <td>37.184644</td>\n",
       "    </tr>\n",
       "    <tr>\n",
       "      <th>9</th>\n",
       "      <td>2016-02-13</td>\n",
       "      <td>33.638026</td>\n",
       "    </tr>\n",
       "    <tr>\n",
       "      <th>10</th>\n",
       "      <td>2016-02-14</td>\n",
       "      <td>35.502742</td>\n",
       "    </tr>\n",
       "    <tr>\n",
       "      <th>11</th>\n",
       "      <td>2016-02-15</td>\n",
       "      <td>39.378428</td>\n",
       "    </tr>\n",
       "    <tr>\n",
       "      <th>12</th>\n",
       "      <td>2016-02-16</td>\n",
       "      <td>39.268739</td>\n",
       "    </tr>\n",
       "    <tr>\n",
       "      <th>13</th>\n",
       "      <td>2016-02-17</td>\n",
       "      <td>39.159049</td>\n",
       "    </tr>\n",
       "    <tr>\n",
       "      <th>14</th>\n",
       "      <td>2016-02-18</td>\n",
       "      <td>38.464351</td>\n",
       "    </tr>\n",
       "    <tr>\n",
       "      <th>15</th>\n",
       "      <td>2016-02-19</td>\n",
       "      <td>34.954296</td>\n",
       "    </tr>\n",
       "    <tr>\n",
       "      <th>16</th>\n",
       "      <td>2016-02-20</td>\n",
       "      <td>31.590494</td>\n",
       "    </tr>\n",
       "    <tr>\n",
       "      <th>17</th>\n",
       "      <td>2016-02-21</td>\n",
       "      <td>36.636197</td>\n",
       "    </tr>\n",
       "    <tr>\n",
       "      <th>18</th>\n",
       "      <td>2016-02-22</td>\n",
       "      <td>38.500914</td>\n",
       "    </tr>\n",
       "    <tr>\n",
       "      <th>19</th>\n",
       "      <td>2016-02-23</td>\n",
       "      <td>38.135283</td>\n",
       "    </tr>\n",
       "    <tr>\n",
       "      <th>20</th>\n",
       "      <td>2016-02-24</td>\n",
       "      <td>38.354662</td>\n",
       "    </tr>\n",
       "    <tr>\n",
       "      <th>21</th>\n",
       "      <td>2016-02-25</td>\n",
       "      <td>37.440585</td>\n",
       "    </tr>\n",
       "    <tr>\n",
       "      <th>22</th>\n",
       "      <td>2016-02-26</td>\n",
       "      <td>33.089580</td>\n",
       "    </tr>\n",
       "    <tr>\n",
       "      <th>23</th>\n",
       "      <td>2016-02-27</td>\n",
       "      <td>30.310786</td>\n",
       "    </tr>\n",
       "    <tr>\n",
       "      <th>24</th>\n",
       "      <td>2016-02-28</td>\n",
       "      <td>34.259598</td>\n",
       "    </tr>\n",
       "    <tr>\n",
       "      <th>25</th>\n",
       "      <td>2016-02-29</td>\n",
       "      <td>36.489945</td>\n",
       "    </tr>\n",
       "  </tbody>\n",
       "</table>\n",
       "</div>"
      ],
      "text/plain": [
       "         date  % of Users\n",
       "0  2016-02-04  100.000000\n",
       "1  2016-02-05   54.478976\n",
       "2  2016-02-06   43.948812\n",
       "3  2016-02-07   46.288848\n",
       "4  2016-02-08   48.007313\n",
       "5  2016-02-09   44.095064\n",
       "6  2016-02-10   43.765996\n",
       "7  2016-02-11   43.290676\n",
       "8  2016-02-12   37.184644\n",
       "9  2016-02-13   33.638026\n",
       "10 2016-02-14   35.502742\n",
       "11 2016-02-15   39.378428\n",
       "12 2016-02-16   39.268739\n",
       "13 2016-02-17   39.159049\n",
       "14 2016-02-18   38.464351\n",
       "15 2016-02-19   34.954296\n",
       "16 2016-02-20   31.590494\n",
       "17 2016-02-21   36.636197\n",
       "18 2016-02-22   38.500914\n",
       "19 2016-02-23   38.135283\n",
       "20 2016-02-24   38.354662\n",
       "21 2016-02-25   37.440585\n",
       "22 2016-02-26   33.089580\n",
       "23 2016-02-27   30.310786\n",
       "24 2016-02-28   34.259598\n",
       "25 2016-02-29   36.489945"
      ]
     },
     "execution_count": 46,
     "metadata": {},
     "output_type": "execute_result"
    }
   ],
   "source": [
    "# display the retention curve dataframe\n",
    "cohort_size,rescaled_dates,daily_retention_df = daily_retention_curve('2016-02-04',ping_df)\n",
    "daily_retention_df"
   ]
  },
  {
   "cell_type": "code",
   "execution_count": 47,
   "metadata": {},
   "outputs": [
    {
     "data": {
      "text/html": [
       "<div>\n",
       "<style scoped>\n",
       "    .dataframe tbody tr th:only-of-type {\n",
       "        vertical-align: middle;\n",
       "    }\n",
       "\n",
       "    .dataframe tbody tr th {\n",
       "        vertical-align: top;\n",
       "    }\n",
       "\n",
       "    .dataframe thead th {\n",
       "        text-align: right;\n",
       "    }\n",
       "</style>\n",
       "<table border=\"1\" class=\"dataframe\">\n",
       "  <thead>\n",
       "    <tr style=\"text-align: right;\">\n",
       "      <th></th>\n",
       "      <th>date</th>\n",
       "      <th>% of Users</th>\n",
       "    </tr>\n",
       "  </thead>\n",
       "  <tbody>\n",
       "    <tr>\n",
       "      <th>0</th>\n",
       "      <td>2016-02-10</td>\n",
       "      <td>100.000000</td>\n",
       "    </tr>\n",
       "    <tr>\n",
       "      <th>1</th>\n",
       "      <td>2016-02-11</td>\n",
       "      <td>60.562480</td>\n",
       "    </tr>\n",
       "    <tr>\n",
       "      <th>2</th>\n",
       "      <td>2016-02-12</td>\n",
       "      <td>50.687120</td>\n",
       "    </tr>\n",
       "    <tr>\n",
       "      <th>3</th>\n",
       "      <td>2016-02-13</td>\n",
       "      <td>43.720038</td>\n",
       "    </tr>\n",
       "    <tr>\n",
       "      <th>4</th>\n",
       "      <td>2016-02-14</td>\n",
       "      <td>46.372643</td>\n",
       "    </tr>\n",
       "    <tr>\n",
       "      <th>5</th>\n",
       "      <td>2016-02-15</td>\n",
       "      <td>49.440716</td>\n",
       "    </tr>\n",
       "    <tr>\n",
       "      <th>6</th>\n",
       "      <td>2016-02-16</td>\n",
       "      <td>48.769575</td>\n",
       "    </tr>\n",
       "    <tr>\n",
       "      <th>7</th>\n",
       "      <td>2016-02-17</td>\n",
       "      <td>48.322148</td>\n",
       "    </tr>\n",
       "    <tr>\n",
       "      <th>8</th>\n",
       "      <td>2016-02-18</td>\n",
       "      <td>45.222116</td>\n",
       "    </tr>\n",
       "    <tr>\n",
       "      <th>9</th>\n",
       "      <td>2016-02-19</td>\n",
       "      <td>41.866411</td>\n",
       "    </tr>\n",
       "    <tr>\n",
       "      <th>10</th>\n",
       "      <td>2016-02-20</td>\n",
       "      <td>38.414829</td>\n",
       "    </tr>\n",
       "    <tr>\n",
       "      <th>11</th>\n",
       "      <td>2016-02-21</td>\n",
       "      <td>42.217961</td>\n",
       "    </tr>\n",
       "    <tr>\n",
       "      <th>12</th>\n",
       "      <td>2016-02-22</td>\n",
       "      <td>45.254075</td>\n",
       "    </tr>\n",
       "    <tr>\n",
       "      <th>13</th>\n",
       "      <td>2016-02-23</td>\n",
       "      <td>45.669543</td>\n",
       "    </tr>\n",
       "    <tr>\n",
       "      <th>14</th>\n",
       "      <td>2016-02-24</td>\n",
       "      <td>44.263343</td>\n",
       "    </tr>\n",
       "    <tr>\n",
       "      <th>15</th>\n",
       "      <td>2016-02-25</td>\n",
       "      <td>42.793225</td>\n",
       "    </tr>\n",
       "    <tr>\n",
       "      <th>16</th>\n",
       "      <td>2016-02-26</td>\n",
       "      <td>38.734420</td>\n",
       "    </tr>\n",
       "    <tr>\n",
       "      <th>17</th>\n",
       "      <td>2016-02-27</td>\n",
       "      <td>36.880793</td>\n",
       "    </tr>\n",
       "    <tr>\n",
       "      <th>18</th>\n",
       "      <td>2016-02-28</td>\n",
       "      <td>40.747843</td>\n",
       "    </tr>\n",
       "    <tr>\n",
       "      <th>19</th>\n",
       "      <td>2016-02-29</td>\n",
       "      <td>43.464366</td>\n",
       "    </tr>\n",
       "  </tbody>\n",
       "</table>\n",
       "</div>"
      ],
      "text/plain": [
       "         date  % of Users\n",
       "0  2016-02-10  100.000000\n",
       "1  2016-02-11   60.562480\n",
       "2  2016-02-12   50.687120\n",
       "3  2016-02-13   43.720038\n",
       "4  2016-02-14   46.372643\n",
       "5  2016-02-15   49.440716\n",
       "6  2016-02-16   48.769575\n",
       "7  2016-02-17   48.322148\n",
       "8  2016-02-18   45.222116\n",
       "9  2016-02-19   41.866411\n",
       "10 2016-02-20   38.414829\n",
       "11 2016-02-21   42.217961\n",
       "12 2016-02-22   45.254075\n",
       "13 2016-02-23   45.669543\n",
       "14 2016-02-24   44.263343\n",
       "15 2016-02-25   42.793225\n",
       "16 2016-02-26   38.734420\n",
       "17 2016-02-27   36.880793\n",
       "18 2016-02-28   40.747843\n",
       "19 2016-02-29   43.464366"
      ]
     },
     "execution_count": 47,
     "metadata": {},
     "output_type": "execute_result"
    }
   ],
   "source": [
    "# display the retention curve dataframe\n",
    "cohort_size,rescaled_dates,daily_retention_df = daily_retention_curve('2016-02-10',ping_df)\n",
    "daily_retention_df"
   ]
  },
  {
   "cell_type": "code",
   "execution_count": 48,
   "metadata": {},
   "outputs": [
    {
     "data": {
      "text/html": [
       "<div>\n",
       "<style scoped>\n",
       "    .dataframe tbody tr th:only-of-type {\n",
       "        vertical-align: middle;\n",
       "    }\n",
       "\n",
       "    .dataframe tbody tr th {\n",
       "        vertical-align: top;\n",
       "    }\n",
       "\n",
       "    .dataframe thead th {\n",
       "        text-align: right;\n",
       "    }\n",
       "</style>\n",
       "<table border=\"1\" class=\"dataframe\">\n",
       "  <thead>\n",
       "    <tr style=\"text-align: right;\">\n",
       "      <th></th>\n",
       "      <th>date</th>\n",
       "      <th>% of Users</th>\n",
       "    </tr>\n",
       "  </thead>\n",
       "  <tbody>\n",
       "    <tr>\n",
       "      <th>0</th>\n",
       "      <td>2016-02-14</td>\n",
       "      <td>100.000000</td>\n",
       "    </tr>\n",
       "    <tr>\n",
       "      <th>1</th>\n",
       "      <td>2016-02-15</td>\n",
       "      <td>60.919957</td>\n",
       "    </tr>\n",
       "    <tr>\n",
       "      <th>2</th>\n",
       "      <td>2016-02-16</td>\n",
       "      <td>55.052517</td>\n",
       "    </tr>\n",
       "    <tr>\n",
       "      <th>3</th>\n",
       "      <td>2016-02-17</td>\n",
       "      <td>51.503079</td>\n",
       "    </tr>\n",
       "    <tr>\n",
       "      <th>4</th>\n",
       "      <td>2016-02-18</td>\n",
       "      <td>47.482796</td>\n",
       "    </tr>\n",
       "    <tr>\n",
       "      <th>5</th>\n",
       "      <td>2016-02-19</td>\n",
       "      <td>43.752264</td>\n",
       "    </tr>\n",
       "    <tr>\n",
       "      <th>6</th>\n",
       "      <td>2016-02-20</td>\n",
       "      <td>42.991670</td>\n",
       "    </tr>\n",
       "    <tr>\n",
       "      <th>7</th>\n",
       "      <td>2016-02-21</td>\n",
       "      <td>47.410359</td>\n",
       "    </tr>\n",
       "    <tr>\n",
       "      <th>8</th>\n",
       "      <td>2016-02-22</td>\n",
       "      <td>45.744296</td>\n",
       "    </tr>\n",
       "    <tr>\n",
       "      <th>9</th>\n",
       "      <td>2016-02-23</td>\n",
       "      <td>44.042014</td>\n",
       "    </tr>\n",
       "    <tr>\n",
       "      <th>10</th>\n",
       "      <td>2016-02-24</td>\n",
       "      <td>43.824701</td>\n",
       "    </tr>\n",
       "    <tr>\n",
       "      <th>11</th>\n",
       "      <td>2016-02-25</td>\n",
       "      <td>42.883013</td>\n",
       "    </tr>\n",
       "    <tr>\n",
       "      <th>12</th>\n",
       "      <td>2016-02-26</td>\n",
       "      <td>38.681637</td>\n",
       "    </tr>\n",
       "    <tr>\n",
       "      <th>13</th>\n",
       "      <td>2016-02-27</td>\n",
       "      <td>38.247012</td>\n",
       "    </tr>\n",
       "    <tr>\n",
       "      <th>14</th>\n",
       "      <td>2016-02-28</td>\n",
       "      <td>43.353857</td>\n",
       "    </tr>\n",
       "    <tr>\n",
       "      <th>15</th>\n",
       "      <td>2016-02-29</td>\n",
       "      <td>42.774357</td>\n",
       "    </tr>\n",
       "  </tbody>\n",
       "</table>\n",
       "</div>"
      ],
      "text/plain": [
       "         date  % of Users\n",
       "0  2016-02-14  100.000000\n",
       "1  2016-02-15   60.919957\n",
       "2  2016-02-16   55.052517\n",
       "3  2016-02-17   51.503079\n",
       "4  2016-02-18   47.482796\n",
       "5  2016-02-19   43.752264\n",
       "6  2016-02-20   42.991670\n",
       "7  2016-02-21   47.410359\n",
       "8  2016-02-22   45.744296\n",
       "9  2016-02-23   44.042014\n",
       "10 2016-02-24   43.824701\n",
       "11 2016-02-25   42.883013\n",
       "12 2016-02-26   38.681637\n",
       "13 2016-02-27   38.247012\n",
       "14 2016-02-28   43.353857\n",
       "15 2016-02-29   42.774357"
      ]
     },
     "execution_count": 48,
     "metadata": {},
     "output_type": "execute_result"
    }
   ],
   "source": [
    "# display the retention curve dataframe\n",
    "cohort_size,rescaled_dates,daily_retention_df = daily_retention_curve('2016-02-14',ping_df)\n",
    "daily_retention_df"
   ]
  },
  {
   "cell_type": "markdown",
   "metadata": {},
   "source": [
    "# Analysis of Traffic Sources\n",
    "I know that the 'utmSource' field has approx 35% missing values. I exclude rows with missing traffic source from the following analysis."
   ]
  },
  {
   "cell_type": "markdown",
   "metadata": {},
   "source": [
    "### Median number of pings per user by traffic source"
   ]
  },
  {
   "cell_type": "code",
   "execution_count": 49,
   "metadata": {},
   "outputs": [],
   "source": [
    "# create dataframe with number of pings per user by traffic source\n",
    "pings_per_user_by_source_df = ping_df[ping_df['utmSource'].notnull()].groupby(['utmSource','uid']).count()['timestamp'].reset_index()\n",
    "pings_per_user_by_source_df.rename({'timestamp':'number_of_pings'},axis=1,inplace=True)"
   ]
  },
  {
   "cell_type": "code",
   "execution_count": 50,
   "metadata": {},
   "outputs": [
    {
     "data": {
      "image/png": "[encoded data removed]",
      "text/plain": [
       "<Figure size 432x288 with 1 Axes>"
      ]
     },
     "metadata": {
      "needs_background": "light"
     },
     "output_type": "display_data"
    }
   ],
   "source": [
    "# plot distribution of number of pings per user\n",
    "pings_per_user_by_source_df.hist(bins=500)\n",
    "plt.xlim((0,200))\n",
    "plt.show()"
   ]
  },
  {
   "cell_type": "code",
   "execution_count": 51,
   "metadata": {},
   "outputs": [],
   "source": [
    "# create dataframe with median number of pings per user by traffic source and count of users by traffic source\n",
    "median_pings_per_user_by_source_df = pings_per_user_by_source_df.groupby(['utmSource']).agg(MedianNumPingsPerUser=('number_of_pings', 'median'), NumUsers=('number_of_pings', 'count')).reset_index()"
   ]
  },
  {
   "cell_type": "code",
   "execution_count": 52,
   "metadata": {},
   "outputs": [
    {
     "data": {
      "text/html": [
       "<div>\n",
       "<style scoped>\n",
       "    .dataframe tbody tr th:only-of-type {\n",
       "        vertical-align: middle;\n",
       "    }\n",
       "\n",
       "    .dataframe tbody tr th {\n",
       "        vertical-align: top;\n",
       "    }\n",
       "\n",
       "    .dataframe thead th {\n",
       "        text-align: right;\n",
       "    }\n",
       "</style>\n",
       "<table border=\"1\" class=\"dataframe\">\n",
       "  <thead>\n",
       "    <tr style=\"text-align: right;\">\n",
       "      <th></th>\n",
       "      <th>utmSource</th>\n",
       "      <th>MedianNumPingsPerUser</th>\n",
       "      <th>NumUsers</th>\n",
       "    </tr>\n",
       "  </thead>\n",
       "  <tbody>\n",
       "    <tr>\n",
       "      <th>43</th>\n",
       "      <td>tapjoy</td>\n",
       "      <td>29.0</td>\n",
       "      <td>347</td>\n",
       "    </tr>\n",
       "    <tr>\n",
       "      <th>45</th>\n",
       "      <td>youtube</td>\n",
       "      <td>27.0</td>\n",
       "      <td>458</td>\n",
       "    </tr>\n",
       "    <tr>\n",
       "      <th>39</th>\n",
       "      <td>salesmanago</td>\n",
       "      <td>26.5</td>\n",
       "      <td>1122</td>\n",
       "    </tr>\n",
       "    <tr>\n",
       "      <th>22</th>\n",
       "      <td>contenthub</td>\n",
       "      <td>25.0</td>\n",
       "      <td>182</td>\n",
       "    </tr>\n",
       "    <tr>\n",
       "      <th>4</th>\n",
       "      <td>Grub+Street</td>\n",
       "      <td>24.0</td>\n",
       "      <td>2431</td>\n",
       "    </tr>\n",
       "    <tr>\n",
       "      <th>41</th>\n",
       "      <td>shmoop</td>\n",
       "      <td>24.0</td>\n",
       "      <td>6915</td>\n",
       "    </tr>\n",
       "    <tr>\n",
       "      <th>44</th>\n",
       "      <td>twitter</td>\n",
       "      <td>23.0</td>\n",
       "      <td>5152</td>\n",
       "    </tr>\n",
       "    <tr>\n",
       "      <th>27</th>\n",
       "      <td>facebook</td>\n",
       "      <td>23.0</td>\n",
       "      <td>140</td>\n",
       "    </tr>\n",
       "    <tr>\n",
       "      <th>37</th>\n",
       "      <td>program</td>\n",
       "      <td>22.0</td>\n",
       "      <td>16493</td>\n",
       "    </tr>\n",
       "    <tr>\n",
       "      <th>5</th>\n",
       "      <td>Just-In-Time+Travels+Newsletter</td>\n",
       "      <td>21.0</td>\n",
       "      <td>515</td>\n",
       "    </tr>\n",
       "    <tr>\n",
       "      <th>36</th>\n",
       "      <td>placement</td>\n",
       "      <td>21.0</td>\n",
       "      <td>264</td>\n",
       "    </tr>\n",
       "    <tr>\n",
       "      <th>23</th>\n",
       "      <td>dict</td>\n",
       "      <td>20.0</td>\n",
       "      <td>342</td>\n",
       "    </tr>\n",
       "    <tr>\n",
       "      <th>1</th>\n",
       "      <td>Biznesowe+Rewolucje</td>\n",
       "      <td>19.0</td>\n",
       "      <td>86287</td>\n",
       "    </tr>\n",
       "    <tr>\n",
       "      <th>33</th>\n",
       "      <td>other</td>\n",
       "      <td>18.0</td>\n",
       "      <td>4417</td>\n",
       "    </tr>\n",
       "    <tr>\n",
       "      <th>8</th>\n",
       "      <td>MosaLingua+FR</td>\n",
       "      <td>18.0</td>\n",
       "      <td>6345</td>\n",
       "    </tr>\n",
       "    <tr>\n",
       "      <th>30</th>\n",
       "      <td>handbook</td>\n",
       "      <td>18.0</td>\n",
       "      <td>1158</td>\n",
       "    </tr>\n",
       "    <tr>\n",
       "      <th>15</th>\n",
       "      <td>answers</td>\n",
       "      <td>15.0</td>\n",
       "      <td>14979</td>\n",
       "    </tr>\n",
       "  </tbody>\n",
       "</table>\n",
       "</div>"
      ],
      "text/plain": [
       "                          utmSource  MedianNumPingsPerUser  NumUsers\n",
       "43                           tapjoy                   29.0       347\n",
       "45                          youtube                   27.0       458\n",
       "39                      salesmanago                   26.5      1122\n",
       "22                       contenthub                   25.0       182\n",
       "4                       Grub+Street                   24.0      2431\n",
       "41                           shmoop                   24.0      6915\n",
       "44                          twitter                   23.0      5152\n",
       "27                         facebook                   23.0       140\n",
       "37                          program                   22.0     16493\n",
       "5   Just-In-Time+Travels+Newsletter                   21.0       515\n",
       "36                        placement                   21.0       264\n",
       "23                             dict                   20.0       342\n",
       "1               Biznesowe+Rewolucje                   19.0     86287\n",
       "33                            other                   18.0      4417\n",
       "8                     MosaLingua+FR                   18.0      6345\n",
       "30                         handbook                   18.0      1158\n",
       "15                          answers                   15.0     14979"
      ]
     },
     "execution_count": 52,
     "metadata": {},
     "output_type": "execute_result"
    }
   ],
   "source": [
    "# keep only sources with at least 100 unique users and display metric in descending order\n",
    "median_pings_per_user_by_source_df[median_pings_per_user_by_source_df['NumUsers']>=100].sort_values(by=['MedianNumPingsPerUser'],ascending=False)"
   ]
  },
  {
   "cell_type": "code",
   "execution_count": 53,
   "metadata": {},
   "outputs": [],
   "source": [
    "# format final dataframe for report\n",
    "median_pings_per_user_by_source_df = median_pings_per_user_by_source_df[median_pings_per_user_by_source_df['NumUsers']>=100].sort_values(by=['MedianNumPingsPerUser'],ascending=False)\n",
    "median_pings_per_user_by_source_df.drop(['NumUsers'],axis=1,inplace=True)\n",
    "median_pings_per_user_by_source_df.reset_index(drop=True,inplace=True)\n",
    "median_pings_per_user_by_source_df['MedianNumPingsPerUser'] = median_pings_per_user_by_source_df['MedianNumPingsPerUser'].apply(lambda x:int(x))\n",
    "median_pings_per_user_by_source_df.rename({'utmSource':'Traffic Source','MedianNumPingsPerUser':'Median Number of Pings Per User'},axis=1,inplace=True)"
   ]
  },
  {
   "cell_type": "code",
   "execution_count": 54,
   "metadata": {},
   "outputs": [
    {
     "data": {
      "image/png": "[encoded data removed]",
      "text/plain": [
       "<Figure size 432x288 with 1 Axes>"
      ]
     },
     "metadata": {
      "needs_background": "light"
     },
     "output_type": "display_data"
    }
   ],
   "source": [
    "# save dataframe as figure for report\n",
    "fig, ax = plt.subplots() \n",
    "ax.xaxis.set_visible(False)  \n",
    "ax.yaxis.set_visible(False)  \n",
    "ax.set_frame_on(False)\n",
    "\n",
    "tab = table(ax, median_pings_per_user_by_source_df, loc='upper right')  \n",
    "tab.auto_set_font_size(False)\n",
    "tab.set_fontsize(8)\n",
    "plt.savefig('./plots/MNPPU_Table.png', bbox_inches='tight', dpi=300)"
   ]
  },
  {
   "cell_type": "markdown",
   "metadata": {},
   "source": [
    "### Median number of active days per user by traffic source"
   ]
  },
  {
   "cell_type": "code",
   "execution_count": 55,
   "metadata": {},
   "outputs": [],
   "source": [
    "# create dataframe with number of active days per user by traffic source\n",
    "active_days_per_user_by_source_df = ping_df[ping_df['utmSource'].notnull()].groupby(['utmSource','uid']).agg({'date': 'nunique'}).reset_index()\n",
    "active_days_per_user_by_source_df.rename({'date':'number_of_active_days'},axis=1,inplace=True)"
   ]
  },
  {
   "cell_type": "code",
   "execution_count": 56,
   "metadata": {},
   "outputs": [
    {
     "data": {
      "image/png": "[encoded data removed]",
      "text/plain": [
       "<Figure size 432x288 with 1 Axes>"
      ]
     },
     "metadata": {
      "needs_background": "light"
     },
     "output_type": "display_data"
    }
   ],
   "source": [
    "# plot distribution of number of active days per user\n",
    "active_days_per_user_by_source_df.hist()\n",
    "plt.show()"
   ]
  },
  {
   "cell_type": "code",
   "execution_count": 57,
   "metadata": {},
   "outputs": [],
   "source": [
    "# create dataframe with median number of active days per user by traffic source and count of users by traffic source\n",
    "median_active_days_per_user_by_source_df = active_days_per_user_by_source_df.groupby(['utmSource']).agg(MedianNumActDaysPerUser=('number_of_active_days', 'median'), NumUsers=('number_of_active_days', 'count')).reset_index()"
   ]
  },
  {
   "cell_type": "code",
   "execution_count": 58,
   "metadata": {},
   "outputs": [
    {
     "data": {
      "text/html": [
       "<div>\n",
       "<style scoped>\n",
       "    .dataframe tbody tr th:only-of-type {\n",
       "        vertical-align: middle;\n",
       "    }\n",
       "\n",
       "    .dataframe tbody tr th {\n",
       "        vertical-align: top;\n",
       "    }\n",
       "\n",
       "    .dataframe thead th {\n",
       "        text-align: right;\n",
       "    }\n",
       "</style>\n",
       "<table border=\"1\" class=\"dataframe\">\n",
       "  <thead>\n",
       "    <tr style=\"text-align: right;\">\n",
       "      <th></th>\n",
       "      <th>utmSource</th>\n",
       "      <th>MedianNumActDaysPerUser</th>\n",
       "      <th>NumUsers</th>\n",
       "    </tr>\n",
       "  </thead>\n",
       "  <tbody>\n",
       "    <tr>\n",
       "      <th>43</th>\n",
       "      <td>tapjoy</td>\n",
       "      <td>23.0</td>\n",
       "      <td>347</td>\n",
       "    </tr>\n",
       "    <tr>\n",
       "      <th>45</th>\n",
       "      <td>youtube</td>\n",
       "      <td>20.0</td>\n",
       "      <td>458</td>\n",
       "    </tr>\n",
       "    <tr>\n",
       "      <th>22</th>\n",
       "      <td>contenthub</td>\n",
       "      <td>20.0</td>\n",
       "      <td>182</td>\n",
       "    </tr>\n",
       "    <tr>\n",
       "      <th>4</th>\n",
       "      <td>Grub+Street</td>\n",
       "      <td>20.0</td>\n",
       "      <td>2431</td>\n",
       "    </tr>\n",
       "    <tr>\n",
       "      <th>39</th>\n",
       "      <td>salesmanago</td>\n",
       "      <td>20.0</td>\n",
       "      <td>1122</td>\n",
       "    </tr>\n",
       "    <tr>\n",
       "      <th>41</th>\n",
       "      <td>shmoop</td>\n",
       "      <td>19.0</td>\n",
       "      <td>6915</td>\n",
       "    </tr>\n",
       "    <tr>\n",
       "      <th>37</th>\n",
       "      <td>program</td>\n",
       "      <td>18.0</td>\n",
       "      <td>16493</td>\n",
       "    </tr>\n",
       "    <tr>\n",
       "      <th>44</th>\n",
       "      <td>twitter</td>\n",
       "      <td>18.0</td>\n",
       "      <td>5152</td>\n",
       "    </tr>\n",
       "    <tr>\n",
       "      <th>27</th>\n",
       "      <td>facebook</td>\n",
       "      <td>18.0</td>\n",
       "      <td>140</td>\n",
       "    </tr>\n",
       "    <tr>\n",
       "      <th>36</th>\n",
       "      <td>placement</td>\n",
       "      <td>17.5</td>\n",
       "      <td>264</td>\n",
       "    </tr>\n",
       "    <tr>\n",
       "      <th>5</th>\n",
       "      <td>Just-In-Time+Travels+Newsletter</td>\n",
       "      <td>17.0</td>\n",
       "      <td>515</td>\n",
       "    </tr>\n",
       "    <tr>\n",
       "      <th>1</th>\n",
       "      <td>Biznesowe+Rewolucje</td>\n",
       "      <td>16.0</td>\n",
       "      <td>86287</td>\n",
       "    </tr>\n",
       "    <tr>\n",
       "      <th>23</th>\n",
       "      <td>dict</td>\n",
       "      <td>16.0</td>\n",
       "      <td>342</td>\n",
       "    </tr>\n",
       "    <tr>\n",
       "      <th>33</th>\n",
       "      <td>other</td>\n",
       "      <td>15.0</td>\n",
       "      <td>4417</td>\n",
       "    </tr>\n",
       "    <tr>\n",
       "      <th>8</th>\n",
       "      <td>MosaLingua+FR</td>\n",
       "      <td>15.0</td>\n",
       "      <td>6345</td>\n",
       "    </tr>\n",
       "    <tr>\n",
       "      <th>30</th>\n",
       "      <td>handbook</td>\n",
       "      <td>15.0</td>\n",
       "      <td>1158</td>\n",
       "    </tr>\n",
       "    <tr>\n",
       "      <th>15</th>\n",
       "      <td>answers</td>\n",
       "      <td>13.0</td>\n",
       "      <td>14979</td>\n",
       "    </tr>\n",
       "  </tbody>\n",
       "</table>\n",
       "</div>"
      ],
      "text/plain": [
       "                          utmSource  MedianNumActDaysPerUser  NumUsers\n",
       "43                           tapjoy                     23.0       347\n",
       "45                          youtube                     20.0       458\n",
       "22                       contenthub                     20.0       182\n",
       "4                       Grub+Street                     20.0      2431\n",
       "39                      salesmanago                     20.0      1122\n",
       "41                           shmoop                     19.0      6915\n",
       "37                          program                     18.0     16493\n",
       "44                          twitter                     18.0      5152\n",
       "27                         facebook                     18.0       140\n",
       "36                        placement                     17.5       264\n",
       "5   Just-In-Time+Travels+Newsletter                     17.0       515\n",
       "1               Biznesowe+Rewolucje                     16.0     86287\n",
       "23                             dict                     16.0       342\n",
       "33                            other                     15.0      4417\n",
       "8                     MosaLingua+FR                     15.0      6345\n",
       "30                         handbook                     15.0      1158\n",
       "15                          answers                     13.0     14979"
      ]
     },
     "execution_count": 58,
     "metadata": {},
     "output_type": "execute_result"
    }
   ],
   "source": [
    "# keep only sources with at least 100 unique users and display metric in descending order\n",
    "median_active_days_per_user_by_source_df[median_active_days_per_user_by_source_df['NumUsers']>=100].sort_values(by=['MedianNumActDaysPerUser'],ascending=False)"
   ]
  },
  {
   "cell_type": "code",
   "execution_count": 59,
   "metadata": {},
   "outputs": [],
   "source": [
    "# format final dataframe for report\n",
    "median_active_days_per_user_by_source_df = median_active_days_per_user_by_source_df[median_active_days_per_user_by_source_df['NumUsers']>=100].sort_values(by=['MedianNumActDaysPerUser'],ascending=False)\n",
    "median_active_days_per_user_by_source_df.drop(['NumUsers'],axis=1,inplace=True)\n",
    "median_active_days_per_user_by_source_df.reset_index(drop=True,inplace=True)\n",
    "median_active_days_per_user_by_source_df['MedianNumActDaysPerUser'] = median_active_days_per_user_by_source_df['MedianNumActDaysPerUser'].apply(lambda x:int(x))\n",
    "median_active_days_per_user_by_source_df.rename({'utmSource':'Traffic Source','MedianNumActDaysPerUser':'Median Number of Active Days Per User'},axis=1,inplace=True)"
   ]
  },
  {
   "cell_type": "code",
   "execution_count": 60,
   "metadata": {},
   "outputs": [
    {
     "data": {
      "image/png": "[encoded data removed]",
      "text/plain": [
       "<Figure size 432x288 with 1 Axes>"
      ]
     },
     "metadata": {
      "needs_background": "light"
     },
     "output_type": "display_data"
    }
   ],
   "source": [
    "# save dataframe as figure for report\n",
    "fig, ax = plt.subplots() \n",
    "ax.xaxis.set_visible(False)  \n",
    "ax.yaxis.set_visible(False)  \n",
    "ax.set_frame_on(False)\n",
    "\n",
    "tab = table(ax, median_active_days_per_user_by_source_df, loc='upper right')  \n",
    "tab.auto_set_font_size(False)\n",
    "tab.set_fontsize(8)\n",
    "plt.savefig('./plots/MADPU_Table.png', bbox_inches='tight', dpi=300)"
   ]
  },
  {
   "cell_type": "markdown",
   "metadata": {},
   "source": [
    "# Time Series Analysis & Forecasting: Daily Active Users"
   ]
  },
  {
   "cell_type": "markdown",
   "metadata": {},
   "source": [
    "We focus on daily active users, one of the metrics measured earlier, and build a forecasting model to predict this metric beyond February 2016."
   ]
  },
  {
   "cell_type": "code",
   "execution_count": 61,
   "metadata": {},
   "outputs": [],
   "source": [
    "# create version of DAU dataframe with date as index\n",
    "DAU_tsa_df = DAU_df.set_index('date')"
   ]
  },
  {
   "cell_type": "markdown",
   "metadata": {},
   "source": [
    "As discussed above, the DAU series shows an overall positive trend and a 7-day seasonality effect. We can decompose this time series either multiplicatively or additively. Decomposing a time series helps us understand its patterns and features and can be useful in building forecasting models."
   ]
  },
  {
   "cell_type": "code",
   "execution_count": 62,
   "metadata": {},
   "outputs": [
    {
     "data": {
      "image/png": "[encoded data removed]",
      "text/plain": [
       "<Figure size 864x360 with 6 Axes>"
      ]
     },
     "metadata": {
      "needs_background": "light"
     },
     "output_type": "display_data"
    }
   ],
   "source": [
    "# multiplicative decomposition \n",
    "DAU_total_mul_decomp = seasonal_decompose(DAU_tsa_df['total_DAU'], model='multiplicative', extrapolate_trend='freq')\n",
    "\n",
    "# additive decomposition\n",
    "DAU_total_add_decomp = seasonal_decompose(DAU_tsa_df['total_DAU'], model='additive', extrapolate_trend='freq')\n",
    "\n",
    "# plot the components of each decomposition\n",
    "fig, axs = plt.subplots(3,2, sharex=True, figsize=(12,5))\n",
    "axs[0,0].plot(DAU_total_mul_decomp.trend)\n",
    "axs[0,1].plot(DAU_total_add_decomp.trend)\n",
    "axs[0,0].set_ylabel('trend')   \n",
    "axs[1,0].plot(DAU_total_mul_decomp.seasonal)\n",
    "axs[1,1].plot(DAU_total_add_decomp.seasonal)\n",
    "axs[1,0].set_ylabel('seasonality')\n",
    "axs[2,0].plot(DAU_total_mul_decomp.resid)\n",
    "axs[2,1].plot(DAU_total_add_decomp.resid)\n",
    "axs[2,0].set_ylabel('residual')\n",
    "        \n",
    "axs[0,0].set_title('Multiplicative Decomposition')\n",
    "axs[0,1].set_title('Additive Decomposition')\n",
    "axs[2,0].get_xaxis().set_major_locator(mdates.DayLocator(interval=3))\n",
    "axs[2,1].get_xaxis().set_major_locator(mdates.DayLocator(interval=3))\n",
    "\n",
    "plt.setp(axs[2,0].get_xticklabels(), rotation=30, ha=\"right\")\n",
    "plt.setp(axs[2,1].get_xticklabels(), rotation=30, ha=\"right\")\n",
    "\n",
    "plt.tight_layout()\n",
    "plt.show()"
   ]
  },
  {
   "cell_type": "markdown",
   "metadata": {},
   "source": [
    "We can also extract the trend, seasonality, and residual components. For instance, for the multiplicative decomposition:"
   ]
  },
  {
   "cell_type": "code",
   "execution_count": 63,
   "metadata": {},
   "outputs": [],
   "source": [
    "# extract components of multiplicative decomposition\n",
    "# observed = trend*seasonality*residual\n",
    "DAU_total_compon_df = pd.concat([DAU_total_mul_decomp.trend, DAU_total_mul_decomp.seasonal, DAU_total_mul_decomp.resid, DAU_total_mul_decomp.observed], axis=1)\n",
    "DAU_total_compon_df.columns = ['trend', 'seasonality', 'residual', 'observed']"
   ]
  },
  {
   "cell_type": "code",
   "execution_count": 64,
   "metadata": {},
   "outputs": [
    {
     "data": {
      "text/html": [
       "<div>\n",
       "<style scoped>\n",
       "    .dataframe tbody tr th:only-of-type {\n",
       "        vertical-align: middle;\n",
       "    }\n",
       "\n",
       "    .dataframe tbody tr th {\n",
       "        vertical-align: top;\n",
       "    }\n",
       "\n",
       "    .dataframe thead th {\n",
       "        text-align: right;\n",
       "    }\n",
       "</style>\n",
       "<table border=\"1\" class=\"dataframe\">\n",
       "  <thead>\n",
       "    <tr style=\"text-align: right;\">\n",
       "      <th></th>\n",
       "      <th>trend</th>\n",
       "      <th>seasonality</th>\n",
       "      <th>residual</th>\n",
       "      <th>observed</th>\n",
       "    </tr>\n",
       "    <tr>\n",
       "      <th>date</th>\n",
       "      <th></th>\n",
       "      <th></th>\n",
       "      <th></th>\n",
       "      <th></th>\n",
       "    </tr>\n",
       "  </thead>\n",
       "  <tbody>\n",
       "    <tr>\n",
       "      <th>2016-02-01</th>\n",
       "      <td>105530.948980</td>\n",
       "      <td>1.055884</td>\n",
       "      <td>1.009653</td>\n",
       "      <td>112504.0</td>\n",
       "    </tr>\n",
       "    <tr>\n",
       "      <th>2016-02-02</th>\n",
       "      <td>106049.137755</td>\n",
       "      <td>1.058532</td>\n",
       "      <td>1.000540</td>\n",
       "      <td>112317.0</td>\n",
       "    </tr>\n",
       "    <tr>\n",
       "      <th>2016-02-03</th>\n",
       "      <td>106567.326531</td>\n",
       "      <td>1.059144</td>\n",
       "      <td>1.001700</td>\n",
       "      <td>113062.0</td>\n",
       "    </tr>\n",
       "    <tr>\n",
       "      <th>2016-02-04</th>\n",
       "      <td>107197.571429</td>\n",
       "      <td>1.034539</td>\n",
       "      <td>1.001785</td>\n",
       "      <td>111098.0</td>\n",
       "    </tr>\n",
       "    <tr>\n",
       "      <th>2016-02-05</th>\n",
       "      <td>107525.857143</td>\n",
       "      <td>0.950024</td>\n",
       "      <td>1.002622</td>\n",
       "      <td>102420.0</td>\n",
       "    </tr>\n",
       "  </tbody>\n",
       "</table>\n",
       "</div>"
      ],
      "text/plain": [
       "                    trend  seasonality  residual  observed\n",
       "date                                                      \n",
       "2016-02-01  105530.948980     1.055884  1.009653  112504.0\n",
       "2016-02-02  106049.137755     1.058532  1.000540  112317.0\n",
       "2016-02-03  106567.326531     1.059144  1.001700  113062.0\n",
       "2016-02-04  107197.571429     1.034539  1.001785  111098.0\n",
       "2016-02-05  107525.857143     0.950024  1.002622  102420.0"
      ]
     },
     "execution_count": 64,
     "metadata": {},
     "output_type": "execute_result"
    }
   ],
   "source": [
    "DAU_total_compon_df.head()"
   ]
  },
  {
   "cell_type": "markdown",
   "metadata": {},
   "source": [
    "We already know that the DAU series is non-stationary. A rigorous way of testing that is to perform an ADF test and determine whether we can reject the null hypothesis (series is non-stationary) at the 95% confidence level ($\\alpha=0.05$):"
   ]
  },
  {
   "cell_type": "code",
   "execution_count": 65,
   "metadata": {},
   "outputs": [
    {
     "name": "stdout",
     "output_type": "stream",
     "text": [
      "ADF Statistic:  0.3608927002421653\n",
      "p-value:  0.9799720669082845\n",
      "Reject null:  False\n"
     ]
    }
   ],
   "source": [
    "# ADF test\n",
    "adf_test = adfuller(DAU_tsa_df['total_DAU'].values, autolag='AIC')\n",
    "\n",
    "print('ADF Statistic: ',adf_test[0])\n",
    "print('p-value: ', adf_test[1])\n",
    "print('Reject null: ', adf_test[1]<=0.05)"
   ]
  },
  {
   "cell_type": "markdown",
   "metadata": {},
   "source": [
    "We can also look at the autocorrelation and partial correlation functions. If a series is significantly autocorrelated, we can use past values (lags) to predict future values and build a forecasting model."
   ]
  },
  {
   "cell_type": "code",
   "execution_count": 66,
   "metadata": {},
   "outputs": [
    {
     "data": {
      "image/png": "[encoded data removed]",
      "text/plain": [
       "<Figure size 792x144 with 2 Axes>"
      ]
     },
     "metadata": {
      "needs_background": "light"
     },
     "output_type": "display_data"
    }
   ],
   "source": [
    "# calculate ACF and PACF\n",
    "# DAU_acf = acf(DAU_tsa_df['total_DAU'],fft=True)\n",
    "# DAU_pacf = pacf(DAU_tsa_df['total_DAU'])\n",
    "\n",
    "# plot ACF and PACF\n",
    "fig, axes = plt.subplots(1,2,figsize=(11,2))\n",
    "plot_acf(DAU_tsa_df['total_DAU'], ax=axes[0])\n",
    "plot_pacf(DAU_tsa_df['total_DAU'], ax=axes[1])\n",
    "plt.show()"
   ]
  },
  {
   "cell_type": "markdown",
   "metadata": {},
   "source": [
    "## SARIMA model\n",
    "We build a SARIMA model to fit the DAU series. We use the auto_arima model from the pmdarima library, which performs stepwise search to find the best set of hyperparameters (p,d,q)x(P,D,Q,m) that minimize AIC, with m=7 in this case since the seasonality is weekly (and we set seasonal=True). The DAU series consists of only 29 observations, so we know that we will not be able to train an extremely good model, as the size of the training set is very limited. However, getting rough estimates and forecasts of DAUs beyond February 2016 might still be a useful insight to understand product growth."
   ]
  },
  {
   "cell_type": "code",
   "execution_count": 67,
   "metadata": {},
   "outputs": [
    {
     "name": "stdout",
     "output_type": "stream",
     "text": [
      "Performing stepwise search to minimize aic\n",
      " ARIMA(0,0,0)(0,0,0)[7] intercept   : AIC=623.400, Time=0.04 sec\n",
      " ARIMA(1,0,0)(1,0,0)[7] intercept   : AIC=595.776, Time=0.03 sec\n",
      " ARIMA(0,0,1)(0,0,1)[7] intercept   : AIC=inf, Time=0.10 sec\n",
      " ARIMA(0,0,0)(0,0,0)[7]             : AIC=760.960, Time=0.00 sec\n",
      " ARIMA(1,0,0)(0,0,0)[7] intercept   : AIC=605.802, Time=0.01 sec\n",
      " ARIMA(1,0,0)(2,0,0)[7] intercept   : AIC=596.670, Time=0.07 sec\n",
      " ARIMA(1,0,0)(1,0,1)[7] intercept   : AIC=595.655, Time=0.04 sec\n",
      " ARIMA(1,0,0)(0,0,1)[7] intercept   : AIC=596.490, Time=0.02 sec\n",
      " ARIMA(1,0,0)(2,0,1)[7] intercept   : AIC=inf, Time=0.23 sec\n",
      " ARIMA(1,0,0)(1,0,2)[7] intercept   : AIC=596.941, Time=0.07 sec\n",
      " ARIMA(1,0,0)(0,0,2)[7] intercept   : AIC=595.908, Time=0.04 sec\n",
      " ARIMA(1,0,0)(2,0,2)[7] intercept   : AIC=inf, Time=0.26 sec\n",
      " ARIMA(0,0,0)(1,0,1)[7] intercept   : AIC=618.116, Time=0.05 sec\n",
      " ARIMA(2,0,0)(1,0,1)[7] intercept   : AIC=593.835, Time=0.08 sec\n",
      " ARIMA(2,0,0)(0,0,1)[7] intercept   : AIC=592.251, Time=0.04 sec\n",
      " ARIMA(2,0,0)(0,0,0)[7] intercept   : AIC=600.028, Time=0.02 sec\n",
      " ARIMA(2,0,0)(0,0,2)[7] intercept   : AIC=592.031, Time=0.10 sec\n",
      " ARIMA(2,0,0)(1,0,2)[7] intercept   : AIC=580.326, Time=0.32 sec\n",
      " ARIMA(2,0,0)(2,0,2)[7] intercept   : AIC=inf, Time=0.28 sec\n",
      " ARIMA(2,0,0)(2,0,1)[7] intercept   : AIC=inf, Time=0.32 sec\n",
      " ARIMA(3,0,0)(1,0,2)[7] intercept   : AIC=580.932, Time=0.30 sec\n",
      " ARIMA(2,0,1)(1,0,2)[7] intercept   : AIC=591.089, Time=0.14 sec\n",
      " ARIMA(1,0,1)(1,0,2)[7] intercept   : AIC=577.367, Time=0.25 sec\n",
      " ARIMA(1,0,1)(0,0,2)[7] intercept   : AIC=589.933, Time=0.06 sec\n",
      " ARIMA(1,0,1)(1,0,1)[7] intercept   : AIC=590.058, Time=0.11 sec\n",
      " ARIMA(1,0,1)(2,0,2)[7] intercept   : AIC=inf, Time=0.29 sec\n",
      " ARIMA(1,0,1)(0,0,1)[7] intercept   : AIC=589.991, Time=0.04 sec\n",
      " ARIMA(1,0,1)(2,0,1)[7] intercept   : AIC=inf, Time=0.31 sec\n",
      " ARIMA(0,0,1)(1,0,2)[7] intercept   : AIC=606.780, Time=0.08 sec\n",
      " ARIMA(1,0,2)(1,0,2)[7] intercept   : AIC=570.231, Time=0.30 sec\n",
      " ARIMA(1,0,2)(0,0,2)[7] intercept   : AIC=inf, Time=0.21 sec\n",
      " ARIMA(1,0,2)(1,0,1)[7] intercept   : AIC=586.590, Time=0.14 sec\n",
      " ARIMA(1,0,2)(2,0,2)[7] intercept   : AIC=inf, Time=0.36 sec\n",
      " ARIMA(1,0,2)(0,0,1)[7] intercept   : AIC=590.016, Time=0.05 sec\n",
      " ARIMA(1,0,2)(2,0,1)[7] intercept   : AIC=inf, Time=0.32 sec\n",
      " ARIMA(0,0,2)(1,0,2)[7] intercept   : AIC=600.317, Time=0.12 sec\n",
      " ARIMA(2,0,2)(1,0,2)[7] intercept   : AIC=581.778, Time=0.33 sec\n",
      " ARIMA(1,0,3)(1,0,2)[7] intercept   : AIC=603.663, Time=0.19 sec\n",
      " ARIMA(0,0,3)(1,0,2)[7] intercept   : AIC=608.266, Time=0.17 sec\n",
      " ARIMA(2,0,3)(1,0,2)[7] intercept   : AIC=inf, Time=0.37 sec\n",
      " ARIMA(1,0,2)(1,0,2)[7]             : AIC=564.710, Time=0.30 sec\n",
      " ARIMA(1,0,2)(0,0,2)[7]             : AIC=584.176, Time=0.20 sec\n",
      " ARIMA(1,0,2)(1,0,1)[7]             : AIC=560.574, Time=0.20 sec\n",
      " ARIMA(1,0,2)(0,0,1)[7]             : AIC=590.046, Time=0.12 sec\n",
      " ARIMA(1,0,2)(1,0,0)[7]             : AIC=566.380, Time=0.14 sec\n",
      " ARIMA(1,0,2)(2,0,1)[7]             : AIC=590.712, Time=0.30 sec\n",
      " ARIMA(1,0,2)(0,0,0)[7]             : AIC=604.351, Time=0.05 sec\n",
      " ARIMA(1,0,2)(2,0,0)[7]             : AIC=567.560, Time=0.23 sec\n",
      " ARIMA(1,0,2)(2,0,2)[7]             : AIC=594.195, Time=0.34 sec\n",
      " ARIMA(0,0,2)(1,0,1)[7]             : AIC=745.512, Time=0.06 sec\n",
      " ARIMA(1,0,1)(1,0,1)[7]             : AIC=562.544, Time=0.15 sec\n",
      " ARIMA(2,0,2)(1,0,1)[7]             : AIC=inf, Time=0.26 sec\n",
      " ARIMA(1,0,3)(1,0,1)[7]             : AIC=602.561, Time=0.20 sec\n",
      " ARIMA(0,0,1)(1,0,1)[7]             : AIC=744.578, Time=0.04 sec\n",
      " ARIMA(0,0,3)(1,0,1)[7]             : AIC=747.068, Time=0.06 sec\n",
      " ARIMA(2,0,1)(1,0,1)[7]             : AIC=inf, Time=0.24 sec\n",
      " ARIMA(2,0,3)(1,0,1)[7]             : AIC=603.151, Time=0.25 sec\n",
      "\n",
      "Best model:  ARIMA(1,0,2)(1,0,1)[7]          \n",
      "Total fit time: 9.463 seconds\n"
     ]
    }
   ],
   "source": [
    "# fit SARIMA model to total_DAU series\n",
    "sarima_model_total_DAU = pm.auto_arima(DAU_tsa_df[['total_DAU']], start_p=0, start_q=0, test='adf',\n",
    "                                       seasonal=True, m=7, start_P=0, start_Q=0, D=0,\n",
    "                                       trace=True, suppress_warnings=True, stepwise=True)"
   ]
  },
  {
   "cell_type": "code",
   "execution_count": 68,
   "metadata": {},
   "outputs": [
    {
     "data": {
      "text/html": [
       "<table class=\"simpletable\">\n",
       "<caption>SARIMAX Results</caption>\n",
       "<tr>\n",
       "  <th>Dep. Variable:</th>                  <td>y</td>                <th>  No. Observations:  </th>    <td>29</td>   \n",
       "</tr>\n",
       "<tr>\n",
       "  <th>Model:</th>           <td>SARIMAX(1, 0, 2)x(1, 0, [1], 7)</td> <th>  Log Likelihood     </th> <td>-274.287</td>\n",
       "</tr>\n",
       "<tr>\n",
       "  <th>Date:</th>                   <td>Sat, 17 Oct 2020</td>         <th>  AIC                </th>  <td>560.574</td>\n",
       "</tr>\n",
       "<tr>\n",
       "  <th>Time:</th>                       <td>17:18:03</td>             <th>  BIC                </th>  <td>568.777</td>\n",
       "</tr>\n",
       "<tr>\n",
       "  <th>Sample:</th>                         <td>0</td>                <th>  HQIC               </th>  <td>563.143</td>\n",
       "</tr>\n",
       "<tr>\n",
       "  <th></th>                              <td> - 29</td>              <th>                     </th>     <td> </td>   \n",
       "</tr>\n",
       "<tr>\n",
       "  <th>Covariance Type:</th>               <td>opg</td>               <th>                     </th>     <td> </td>   \n",
       "</tr>\n",
       "</table>\n",
       "<table class=\"simpletable\">\n",
       "<tr>\n",
       "     <td></td>        <th>coef</th>     <th>std err</th>      <th>z</th>      <th>P>|z|</th>  <th>[0.025</th>    <th>0.975]</th>  \n",
       "</tr>\n",
       "<tr>\n",
       "  <th>ar.L1</th>   <td>    0.9766</td> <td>    0.059</td> <td>   16.611</td> <td> 0.000</td> <td>    0.861</td> <td>    1.092</td>\n",
       "</tr>\n",
       "<tr>\n",
       "  <th>ma.L1</th>   <td>   -0.0156</td> <td>    0.267</td> <td>   -0.058</td> <td> 0.953</td> <td>   -0.540</td> <td>    0.509</td>\n",
       "</tr>\n",
       "<tr>\n",
       "  <th>ma.L2</th>   <td>    0.0346</td> <td>    0.619</td> <td>    0.056</td> <td> 0.955</td> <td>   -1.180</td> <td>    1.249</td>\n",
       "</tr>\n",
       "<tr>\n",
       "  <th>ar.S.L7</th> <td>    0.9610</td> <td>    0.029</td> <td>   32.647</td> <td> 0.000</td> <td>    0.903</td> <td>    1.019</td>\n",
       "</tr>\n",
       "<tr>\n",
       "  <th>ma.S.L7</th> <td>   -0.0264</td> <td>    0.418</td> <td>   -0.063</td> <td> 0.950</td> <td>   -0.846</td> <td>    0.793</td>\n",
       "</tr>\n",
       "<tr>\n",
       "  <th>sigma2</th>  <td> 4.015e+06</td> <td> 8.63e-08</td> <td> 4.65e+13</td> <td> 0.000</td> <td> 4.01e+06</td> <td> 4.01e+06</td>\n",
       "</tr>\n",
       "</table>\n",
       "<table class=\"simpletable\">\n",
       "<tr>\n",
       "  <th>Ljung-Box (Q):</th>          <td>19.78</td> <th>  Jarque-Bera (JB):  </th> <td>32.45</td>\n",
       "</tr>\n",
       "<tr>\n",
       "  <th>Prob(Q):</th>                <td>0.87</td>  <th>  Prob(JB):          </th> <td>0.00</td> \n",
       "</tr>\n",
       "<tr>\n",
       "  <th>Heteroskedasticity (H):</th> <td>2.10</td>  <th>  Skew:              </th> <td>1.41</td> \n",
       "</tr>\n",
       "<tr>\n",
       "  <th>Prob(H) (two-sided):</th>    <td>0.26</td>  <th>  Kurtosis:          </th> <td>7.34</td> \n",
       "</tr>\n",
       "</table><br/><br/>Warnings:<br/>[1] Covariance matrix calculated using the outer product of gradients (complex-step).<br/>[2] Covariance matrix is singular or near-singular, with condition number 2.41e+29. Standard errors may be unstable."
      ],
      "text/plain": [
       "<class 'statsmodels.iolib.summary.Summary'>\n",
       "\"\"\"\n",
       "                                      SARIMAX Results                                      \n",
       "===========================================================================================\n",
       "Dep. Variable:                                   y   No. Observations:                   29\n",
       "Model:             SARIMAX(1, 0, 2)x(1, 0, [1], 7)   Log Likelihood                -274.287\n",
       "Date:                             Sat, 17 Oct 2020   AIC                            560.574\n",
       "Time:                                     17:18:03   BIC                            568.777\n",
       "Sample:                                          0   HQIC                           563.143\n",
       "                                              - 29                                         \n",
       "Covariance Type:                               opg                                         \n",
       "==============================================================================\n",
       "                 coef    std err          z      P>|z|      [0.025      0.975]\n",
       "------------------------------------------------------------------------------\n",
       "ar.L1          0.9766      0.059     16.611      0.000       0.861       1.092\n",
       "ma.L1         -0.0156      0.267     -0.058      0.953      -0.540       0.509\n",
       "ma.L2          0.0346      0.619      0.056      0.955      -1.180       1.249\n",
       "ar.S.L7        0.9610      0.029     32.647      0.000       0.903       1.019\n",
       "ma.S.L7       -0.0264      0.418     -0.063      0.950      -0.846       0.793\n",
       "sigma2      4.015e+06   8.63e-08   4.65e+13      0.000    4.01e+06    4.01e+06\n",
       "===================================================================================\n",
       "Ljung-Box (Q):                       19.78   Jarque-Bera (JB):                32.45\n",
       "Prob(Q):                              0.87   Prob(JB):                         0.00\n",
       "Heteroskedasticity (H):               2.10   Skew:                             1.41\n",
       "Prob(H) (two-sided):                  0.26   Kurtosis:                         7.34\n",
       "===================================================================================\n",
       "\n",
       "Warnings:\n",
       "[1] Covariance matrix calculated using the outer product of gradients (complex-step).\n",
       "[2] Covariance matrix is singular or near-singular, with condition number 2.41e+29. Standard errors may be unstable.\n",
       "\"\"\""
      ]
     },
     "execution_count": 68,
     "metadata": {},
     "output_type": "execute_result"
    }
   ],
   "source": [
    "# print summary of best model\n",
    "sarima_model_total_DAU.summary()"
   ]
  },
  {
   "cell_type": "markdown",
   "metadata": {},
   "source": [
    "We observe that three coefficients in the model are not significant (MA.L1, MA.L2, MA.S.L7). We can also print and inspect diagnostics plots of the chosen SARIMA model:"
   ]
  },
  {
   "cell_type": "code",
   "execution_count": 69,
   "metadata": {},
   "outputs": [
    {
     "data": {
      "image/png": "[encoded data removed]",
      "text/plain": [
       "<Figure size 504x468 with 4 Axes>"
      ]
     },
     "metadata": {
      "needs_background": "light"
     },
     "output_type": "display_data"
    }
   ],
   "source": [
    "# print diagnostics plots of SARIMA model\n",
    "sarima_model_total_DAU.plot_diagnostics(figsize=(7,6.5))\n",
    "plt.tight_layout()\n",
    "plt.show()"
   ]
  },
  {
   "cell_type": "markdown",
   "metadata": {},
   "source": [
    "We can qualitatively validate the model by computing the in-sample predictions and see how well the model does:"
   ]
  },
  {
   "cell_type": "code",
   "execution_count": 70,
   "metadata": {},
   "outputs": [],
   "source": [
    "# create series of in-sample predictions\n",
    "DAU_in_sample_preds = pd.Series(sarima_model_total_DAU.predict_in_sample()[1:], index=DAU_tsa_df[['total_DAU']][1:].index)"
   ]
  },
  {
   "cell_type": "code",
   "execution_count": 71,
   "metadata": {},
   "outputs": [
    {
     "data": {
      "image/png": "[encoded data removed]",
      "text/plain": [
       "<Figure size 432x288 with 1 Axes>"
      ]
     },
     "metadata": {
      "needs_background": "light"
     },
     "output_type": "display_data"
    }
   ],
   "source": [
    "# plot\n",
    "fig, ax = plt.subplots()\n",
    "\n",
    "ax.plot(DAU_tsa_df[['total_DAU']][1:], label='Observed')\n",
    "ax.plot(DAU_in_sample_preds, color='darkgreen', label='In-sample Predictions')\n",
    "\n",
    "ax.legend(fontsize=12,bbox_to_anchor=(0.55,0.98))\n",
    "plt.setp(ax.get_xticklabels(), rotation=30, ha=\"right\")\n",
    "ax.get_xaxis().set_major_locator(mdates.DayLocator(interval=3))\n",
    "\n",
    "for axis in ['top','bottom','left','right']:\n",
    "    ax.spines[axis].set_linewidth(1.2)\n",
    "\n",
    "for tick in ax.xaxis.get_major_ticks():\n",
    "    tick.label.set_fontsize(12) \n",
    "\n",
    "for tick in ax.yaxis.get_major_ticks():\n",
    "    tick.label.set_fontsize(12)\n",
    "    \n",
    "plt.show()"
   ]
  },
  {
   "cell_type": "markdown",
   "metadata": {},
   "source": [
    "We can also compute the RMSE for the in-sample predictions:"
   ]
  },
  {
   "cell_type": "code",
   "execution_count": 72,
   "metadata": {},
   "outputs": [
    {
     "data": {
      "text/plain": [
       "3548.220863751693"
      ]
     },
     "execution_count": 72,
     "metadata": {},
     "output_type": "execute_result"
    }
   ],
   "source": [
    "# RMSE\n",
    "np.sqrt(np.mean((DAU_tsa_df['total_DAU'][1:]-DAU_in_sample_preds)**2))"
   ]
  },
  {
   "cell_type": "markdown",
   "metadata": {},
   "source": [
    "The obtained model seems to be doing a fairly good job at in-sample predictions. Finally, we can use it to make future predictions of daily active users, with the caveat that in a real-world scenario additional data is certainly needed to improve the reliability and accuracy of the model."
   ]
  },
  {
   "cell_type": "code",
   "execution_count": 73,
   "metadata": {},
   "outputs": [],
   "source": [
    "# number of days to forecast\n",
    "n_days = 14\n",
    "pred, CI_pred = sarima_model_total_DAU.predict(n_periods=n_days, return_conf_int=True)\n",
    "pred_date_index = pd.date_range(DAU_tsa_df[['total_DAU']].index[-1], periods = n_days+1, freq='D')\n",
    "\n",
    "# prepend last value in total_DAU series to forecast series\n",
    "pred = np.insert(pred, 0, DAU_tsa_df['total_DAU'][-1], axis=0)\n",
    "CI_pred = np.insert(CI_pred, 0, [DAU_tsa_df['total_DAU'][-1],DAU_tsa_df['total_DAU'][-1]], axis=0)\n",
    "\n",
    "# create forecasted time series\n",
    "pred_series = pd.Series(pred, index=pred_date_index)\n",
    "lower_CI_pred_series = pd.Series(CI_pred[:, 0], index=pred_date_index)\n",
    "upper_CI_pred_series = pd.Series(CI_pred[:, 1], index=pred_date_index)"
   ]
  },
  {
   "cell_type": "code",
   "execution_count": 74,
   "metadata": {},
   "outputs": [],
   "source": [
    "# create forecasted dataframe\n",
    "DAU_forecast_df = pd.concat([lower_CI_pred_series[1:].astype(int),pred_series[1:].astype(int),upper_CI_pred_series[1:].astype(int)],axis=1)\n",
    "DAU_forecast_df.rename({0:'Lower Forecast',1:'Forecast',2:'Upper Forecast'},axis=1,inplace=True)"
   ]
  },
  {
   "cell_type": "code",
   "execution_count": 75,
   "metadata": {},
   "outputs": [
    {
     "data": {
      "text/html": [
       "<div>\n",
       "<style scoped>\n",
       "    .dataframe tbody tr th:only-of-type {\n",
       "        vertical-align: middle;\n",
       "    }\n",
       "\n",
       "    .dataframe tbody tr th {\n",
       "        vertical-align: top;\n",
       "    }\n",
       "\n",
       "    .dataframe thead th {\n",
       "        text-align: right;\n",
       "    }\n",
       "</style>\n",
       "<table border=\"1\" class=\"dataframe\">\n",
       "  <thead>\n",
       "    <tr style=\"text-align: right;\">\n",
       "      <th></th>\n",
       "      <th>Lower Forecast</th>\n",
       "      <th>Forecast</th>\n",
       "      <th>Upper Forecast</th>\n",
       "    </tr>\n",
       "  </thead>\n",
       "  <tbody>\n",
       "    <tr>\n",
       "      <th>2016-03-01</th>\n",
       "      <td>136009</td>\n",
       "      <td>139936</td>\n",
       "      <td>143863</td>\n",
       "    </tr>\n",
       "    <tr>\n",
       "      <th>2016-03-02</th>\n",
       "      <td>134472</td>\n",
       "      <td>139918</td>\n",
       "      <td>145365</td>\n",
       "    </tr>\n",
       "    <tr>\n",
       "      <th>2016-03-03</th>\n",
       "      <td>131399</td>\n",
       "      <td>138052</td>\n",
       "      <td>144706</td>\n",
       "    </tr>\n",
       "    <tr>\n",
       "      <th>2016-03-04</th>\n",
       "      <td>120871</td>\n",
       "      <td>128500</td>\n",
       "      <td>136129</td>\n",
       "    </tr>\n",
       "    <tr>\n",
       "      <th>2016-03-05</th>\n",
       "      <td>112192</td>\n",
       "      <td>120647</td>\n",
       "      <td>129102</td>\n",
       "    </tr>\n",
       "    <tr>\n",
       "      <th>2016-03-06</th>\n",
       "      <td>125875</td>\n",
       "      <td>135049</td>\n",
       "      <td>144223</td>\n",
       "    </tr>\n",
       "    <tr>\n",
       "      <th>2016-03-07</th>\n",
       "      <td>135057</td>\n",
       "      <td>144868</td>\n",
       "      <td>154679</td>\n",
       "    </tr>\n",
       "    <tr>\n",
       "      <th>2016-03-08</th>\n",
       "      <td>133748</td>\n",
       "      <td>145838</td>\n",
       "      <td>157928</td>\n",
       "    </tr>\n",
       "    <tr>\n",
       "      <th>2016-03-09</th>\n",
       "      <td>131662</td>\n",
       "      <td>145554</td>\n",
       "      <td>159447</td>\n",
       "    </tr>\n",
       "    <tr>\n",
       "      <th>2016-03-10</th>\n",
       "      <td>128030</td>\n",
       "      <td>143502</td>\n",
       "      <td>158974</td>\n",
       "    </tr>\n",
       "    <tr>\n",
       "      <th>2016-03-11</th>\n",
       "      <td>117228</td>\n",
       "      <td>134069</td>\n",
       "      <td>150910</td>\n",
       "    </tr>\n",
       "    <tr>\n",
       "      <th>2016-03-12</th>\n",
       "      <td>108225</td>\n",
       "      <td>126275</td>\n",
       "      <td>144325</td>\n",
       "    </tr>\n",
       "    <tr>\n",
       "      <th>2016-03-13</th>\n",
       "      <td>120741</td>\n",
       "      <td>139874</td>\n",
       "      <td>159006</td>\n",
       "    </tr>\n",
       "    <tr>\n",
       "      <th>2016-03-14</th>\n",
       "      <td>128962</td>\n",
       "      <td>149073</td>\n",
       "      <td>169184</td>\n",
       "    </tr>\n",
       "  </tbody>\n",
       "</table>\n",
       "</div>"
      ],
      "text/plain": [
       "            Lower Forecast  Forecast  Upper Forecast\n",
       "2016-03-01          136009    139936          143863\n",
       "2016-03-02          134472    139918          145365\n",
       "2016-03-03          131399    138052          144706\n",
       "2016-03-04          120871    128500          136129\n",
       "2016-03-05          112192    120647          129102\n",
       "2016-03-06          125875    135049          144223\n",
       "2016-03-07          135057    144868          154679\n",
       "2016-03-08          133748    145838          157928\n",
       "2016-03-09          131662    145554          159447\n",
       "2016-03-10          128030    143502          158974\n",
       "2016-03-11          117228    134069          150910\n",
       "2016-03-12          108225    126275          144325\n",
       "2016-03-13          120741    139874          159006\n",
       "2016-03-14          128962    149073          169184"
      ]
     },
     "execution_count": 75,
     "metadata": {},
     "output_type": "execute_result"
    }
   ],
   "source": [
    "DAU_forecast_df"
   ]
  },
  {
   "cell_type": "code",
   "execution_count": 76,
   "metadata": {},
   "outputs": [
    {
     "data": {
      "image/png": "[encoded data removed]",
      "text/plain": [
       "<Figure size 432x288 with 1 Axes>"
      ]
     },
     "metadata": {
      "needs_background": "light"
     },
     "output_type": "display_data"
    }
   ],
   "source": [
    "# plot observed series and forecasts\n",
    "fig, ax = plt.subplots()\n",
    "\n",
    "ax.plot(DAU_tsa_df[['total_DAU']], label='Observed')\n",
    "ax.plot(pred_series, color='darkgreen', label='Forecasted')\n",
    "ax.fill_between(lower_CI_pred_series.index, lower_CI_pred_series, upper_CI_pred_series, color='k', alpha=0.1,\n",
    "                label='Forecasted CI')\n",
    "plt.title('Daily Active Users, ' + str(n_days) + '-Day Forecasting', fontdict = {'fontsize':16})\n",
    "\n",
    "ax.legend(fontsize=12,bbox_to_anchor=(0.43,0.98))\n",
    "plt.setp(ax.get_xticklabels(), rotation=30, ha=\"right\")\n",
    "\n",
    "for axis in ['top','bottom','left','right']:\n",
    "    ax.spines[axis].set_linewidth(1.2)\n",
    "\n",
    "for tick in ax.xaxis.get_major_ticks():\n",
    "    tick.label.set_fontsize(12) \n",
    "\n",
    "for tick in ax.yaxis.get_major_ticks():\n",
    "    tick.label.set_fontsize(12)\n",
    "\n",
    "plt.show()"
   ]
  },
  {
   "cell_type": "markdown",
   "metadata": {},
   "source": [
    "## Decomposition-based SARIMA model\n",
    "Another approach to building a forecasting model is to use the multiplicative decomposition of the DAU series obtained above and build SARIMA models for each component (trend, seasonality, and residuals). The final forecasts will be obtained by multiplying the forecasts from each component model."
   ]
  },
  {
   "cell_type": "markdown",
   "metadata": {},
   "source": [
    "### trend"
   ]
  },
  {
   "cell_type": "code",
   "execution_count": 77,
   "metadata": {},
   "outputs": [
    {
     "name": "stdout",
     "output_type": "stream",
     "text": [
      "Performing stepwise search to minimize aic\n",
      " ARIMA(0,2,0)(0,0,0)[0]             : AIC=381.316, Time=0.01 sec\n",
      " ARIMA(1,2,0)(0,0,0)[0]             : AIC=383.242, Time=0.01 sec\n",
      " ARIMA(0,2,1)(0,0,0)[0]             : AIC=383.229, Time=0.01 sec\n",
      " ARIMA(1,2,1)(0,0,0)[0]             : AIC=385.206, Time=0.04 sec\n",
      " ARIMA(0,2,0)(0,0,0)[0] intercept   : AIC=383.008, Time=0.01 sec\n",
      "\n",
      "Best model:  ARIMA(0,2,0)(0,0,0)[0]          \n",
      "Total fit time: 0.083 seconds\n"
     ]
    }
   ],
   "source": [
    "sarima_model_trend_DAU = pm.auto_arima(DAU_total_compon_df[['trend']], start_p=0, start_q=0, test='adf',\n",
    "                                       seasonal=True, start_P=0, start_Q=0,\n",
    "                                       trace=True, suppress_warnings=True, stepwise=True)"
   ]
  },
  {
   "cell_type": "code",
   "execution_count": 78,
   "metadata": {},
   "outputs": [],
   "source": [
    "trend_pred, trend_CI_pred = sarima_model_trend_DAU.predict(n_periods=n_days, return_conf_int=True)\n",
    "\n",
    "trend_pred = np.insert(trend_pred, 0, DAU_total_compon_df['trend'][-1], axis=0)\n",
    "trend_CI_pred = np.insert(trend_CI_pred, 0, [DAU_total_compon_df['trend'][-1],DAU_total_compon_df['trend'][-1]], axis=0)\n",
    "\n",
    "trend_pred_series = pd.Series(trend_pred, index=pred_date_index)\n",
    "trend_lower_CI_pred_series = pd.Series(trend_CI_pred[:, 0], index=pred_date_index)\n",
    "trend_upper_CI_pred_series = pd.Series(trend_CI_pred[:, 1], index=pred_date_index)\n",
    "\n",
    "trend_df = pd.concat([trend_lower_CI_pred_series[1:],trend_pred_series[1:],trend_upper_CI_pred_series[1:]],axis=1)\n",
    "trend_df.rename({0:'Lower Forecast',1:'Forecast',2:'Upper Forecast'},axis=1,inplace=True)"
   ]
  },
  {
   "cell_type": "code",
   "execution_count": 79,
   "metadata": {},
   "outputs": [
    {
     "data": {
      "image/png": "[encoded data removed]",
      "text/plain": [
       "<Figure size 432x288 with 1 Axes>"
      ]
     },
     "metadata": {
      "needs_background": "light"
     },
     "output_type": "display_data"
    }
   ],
   "source": [
    "fig, ax = plt.subplots()\n",
    "ax.plot(DAU_total_compon_df[['trend']], label='Observed')\n",
    "ax.plot(trend_pred_series, color='darkgreen', label='Forecasted')\n",
    "ax.fill_between(trend_lower_CI_pred_series.index, trend_lower_CI_pred_series, trend_upper_CI_pred_series, color='k', alpha=0.1,\n",
    "                label='Forecasted CI')\n",
    "plt.title('DAU trend, ' + str(n_days) + '-Day Forecasting', fontdict = {'fontsize':16})\n",
    "\n",
    "ax.legend(fontsize=12,bbox_to_anchor=(0.43,0.98))\n",
    "plt.setp(ax.get_xticklabels(), rotation=30, ha=\"right\")\n",
    "\n",
    "for axis in ['top','bottom','left','right']:\n",
    "    ax.spines[axis].set_linewidth(1.2)\n",
    "\n",
    "for tick in ax.xaxis.get_major_ticks():\n",
    "    tick.label.set_fontsize(12) \n",
    "\n",
    "for tick in ax.yaxis.get_major_ticks():\n",
    "    tick.label.set_fontsize(12)\n",
    "\n",
    "plt.show()"
   ]
  },
  {
   "cell_type": "markdown",
   "metadata": {},
   "source": [
    "### seasonality"
   ]
  },
  {
   "cell_type": "code",
   "execution_count": 80,
   "metadata": {},
   "outputs": [
    {
     "name": "stdout",
     "output_type": "stream",
     "text": [
      "Performing stepwise search to minimize aic\n",
      " ARIMA(0,0,0)(0,0,0)[7] intercept   : AIC=-71.476, Time=0.01 sec\n",
      " ARIMA(1,0,0)(1,0,0)[7] intercept   : AIC=inf, Time=0.14 sec\n",
      " ARIMA(0,0,1)(0,0,1)[7] intercept   : AIC=inf, Time=0.12 sec\n",
      " ARIMA(0,0,0)(0,0,0)[7]             : AIC=84.535, Time=0.00 sec\n",
      " ARIMA(0,0,0)(1,0,0)[7] intercept   : AIC=inf, Time=0.10 sec\n",
      " ARIMA(0,0,0)(0,0,1)[7] intercept   : AIC=inf, Time=0.07 sec\n",
      " ARIMA(0,0,0)(1,0,1)[7] intercept   : AIC=inf, Time=0.16 sec\n",
      " ARIMA(1,0,0)(0,0,0)[7] intercept   : AIC=-77.893, Time=0.01 sec\n",
      " ARIMA(1,0,0)(0,0,1)[7] intercept   : AIC=inf, Time=0.10 sec\n",
      " ARIMA(1,0,0)(1,0,1)[7] intercept   : AIC=inf, Time=0.19 sec\n",
      " ARIMA(2,0,0)(0,0,0)[7] intercept   : AIC=-98.849, Time=0.06 sec\n",
      " ARIMA(2,0,0)(1,0,0)[7] intercept   : AIC=-171.564, Time=0.18 sec\n",
      " ARIMA(2,0,0)(2,0,0)[7] intercept   : AIC=inf, Time=0.23 sec\n",
      " ARIMA(2,0,0)(1,0,1)[7] intercept   : AIC=inf, Time=0.21 sec\n",
      " ARIMA(2,0,0)(0,0,1)[7] intercept   : AIC=inf, Time=0.12 sec\n",
      " ARIMA(2,0,0)(2,0,1)[7] intercept   : AIC=-192.042, Time=0.32 sec\n",
      " ARIMA(2,0,0)(2,0,2)[7] intercept   : AIC=-205.306, Time=0.35 sec\n",
      " ARIMA(2,0,0)(1,0,2)[7] intercept   : AIC=inf, Time=0.30 sec\n",
      " ARIMA(1,0,0)(2,0,2)[7] intercept   : AIC=inf, Time=0.38 sec\n",
      " ARIMA(3,0,0)(2,0,2)[7] intercept   : AIC=-193.240, Time=0.45 sec\n",
      " ARIMA(2,0,1)(2,0,2)[7] intercept   : AIC=-181.059, Time=0.40 sec\n",
      " ARIMA(1,0,1)(2,0,2)[7] intercept   : AIC=inf, Time=0.39 sec\n",
      " ARIMA(3,0,1)(2,0,2)[7] intercept   : AIC=-197.549, Time=0.50 sec\n",
      " ARIMA(2,0,0)(2,0,2)[7]             : AIC=inf, Time=0.68 sec\n",
      "\n",
      "Best model:  ARIMA(2,0,0)(2,0,2)[7] intercept\n",
      "Total fit time: 5.476 seconds\n"
     ]
    }
   ],
   "source": [
    "sarima_model_season_DAU = pm.auto_arima(DAU_total_compon_df[['seasonality']], start_p=0, start_q=0, test='adf',\n",
    "                                        seasonal=True, m=7, start_P=0, start_Q=0, D=0,\n",
    "                                        trace=True, suppress_warnings=True, stepwise=True)"
   ]
  },
  {
   "cell_type": "code",
   "execution_count": 81,
   "metadata": {},
   "outputs": [],
   "source": [
    "season_pred, season_CI_pred = sarima_model_season_DAU.predict(n_periods=n_days, return_conf_int=True)\n",
    "\n",
    "season_pred = np.insert(season_pred, 0, DAU_total_compon_df['seasonality'][-1], axis=0)\n",
    "season_CI_pred = np.insert(season_CI_pred, 0, [DAU_total_compon_df['seasonality'][-1],DAU_total_compon_df['seasonality'][-1]], axis=0)\n",
    "\n",
    "season_pred_series = pd.Series(season_pred, index=pred_date_index)\n",
    "season_lower_CI_pred_series = pd.Series(season_CI_pred[:, 0], index=pred_date_index)\n",
    "season_upper_CI_pred_series = pd.Series(season_CI_pred[:, 1], index=pred_date_index)\n",
    "\n",
    "season_df = pd.concat([season_lower_CI_pred_series[1:],season_pred_series[1:],season_upper_CI_pred_series[1:]],axis=1)\n",
    "season_df.rename({0:'Lower Forecast',1:'Forecast',2:'Upper Forecast'},axis=1,inplace=True)"
   ]
  },
  {
   "cell_type": "code",
   "execution_count": 82,
   "metadata": {},
   "outputs": [
    {
     "data": {
      "image/png": "[encoded data removed]",
      "text/plain": [
       "<Figure size 432x288 with 1 Axes>"
      ]
     },
     "metadata": {
      "needs_background": "light"
     },
     "output_type": "display_data"
    }
   ],
   "source": [
    "fig, ax = plt.subplots()\n",
    "ax.plot(DAU_total_compon_df[['seasonality']], label='Observed')\n",
    "ax.plot(season_pred_series, color='darkgreen', label='Forecasted')\n",
    "ax.fill_between(season_lower_CI_pred_series.index, season_lower_CI_pred_series, season_upper_CI_pred_series, color='k', alpha=0.1,\n",
    "                label='Forecasted CI')\n",
    "plt.title('DAU seasonality, ' + str(n_days) + '-Day Forecasting', fontdict = {'fontsize':16})\n",
    "\n",
    "ax.legend(fontsize=12,bbox_to_anchor=(0.43,0.38))\n",
    "plt.setp(ax.get_xticklabels(), rotation=30, ha=\"right\")\n",
    "\n",
    "for axis in ['top','bottom','left','right']:\n",
    "    ax.spines[axis].set_linewidth(1.2)\n",
    "\n",
    "for tick in ax.xaxis.get_major_ticks():\n",
    "    tick.label.set_fontsize(12) \n",
    "\n",
    "for tick in ax.yaxis.get_major_ticks():\n",
    "    tick.label.set_fontsize(12)\n",
    "\n",
    "plt.show()"
   ]
  },
  {
   "cell_type": "markdown",
   "metadata": {},
   "source": [
    "### residuals"
   ]
  },
  {
   "cell_type": "code",
   "execution_count": 83,
   "metadata": {},
   "outputs": [
    {
     "name": "stdout",
     "output_type": "stream",
     "text": [
      "Performing stepwise search to minimize aic\n",
      " ARIMA(0,1,0)(0,0,0)[0] intercept   : AIC=-168.577, Time=0.02 sec\n",
      " ARIMA(1,1,0)(0,0,0)[0] intercept   : AIC=-171.829, Time=0.02 sec\n",
      " ARIMA(0,1,1)(0,0,0)[0] intercept   : AIC=inf, Time=0.08 sec\n",
      " ARIMA(0,1,0)(0,0,0)[0]             : AIC=-170.517, Time=0.01 sec\n",
      " ARIMA(2,1,0)(0,0,0)[0] intercept   : AIC=-170.240, Time=0.04 sec\n",
      " ARIMA(1,1,1)(0,0,0)[0] intercept   : AIC=inf, Time=0.10 sec\n",
      " ARIMA(2,1,1)(0,0,0)[0] intercept   : AIC=-177.279, Time=0.12 sec\n",
      " ARIMA(3,1,1)(0,0,0)[0] intercept   : AIC=-177.505, Time=0.17 sec\n",
      " ARIMA(3,1,0)(0,0,0)[0] intercept   : AIC=-173.065, Time=0.05 sec\n",
      " ARIMA(4,1,1)(0,0,0)[0] intercept   : AIC=-175.131, Time=0.18 sec\n",
      " ARIMA(3,1,2)(0,0,0)[0] intercept   : AIC=-175.551, Time=0.08 sec\n",
      " ARIMA(2,1,2)(0,0,0)[0] intercept   : AIC=-175.215, Time=0.13 sec\n",
      " ARIMA(4,1,0)(0,0,0)[0] intercept   : AIC=-174.276, Time=0.14 sec\n",
      " ARIMA(4,1,2)(0,0,0)[0] intercept   : AIC=-174.359, Time=0.20 sec\n",
      " ARIMA(3,1,1)(0,0,0)[0]             : AIC=-180.105, Time=0.11 sec\n",
      " ARIMA(2,1,1)(0,0,0)[0]             : AIC=inf, Time=0.12 sec\n",
      " ARIMA(3,1,0)(0,0,0)[0]             : AIC=-174.954, Time=0.03 sec\n",
      " ARIMA(4,1,1)(0,0,0)[0]             : AIC=-178.238, Time=0.13 sec\n",
      " ARIMA(3,1,2)(0,0,0)[0]             : AIC=-178.053, Time=0.07 sec\n",
      " ARIMA(2,1,0)(0,0,0)[0]             : AIC=-172.218, Time=0.03 sec\n",
      " ARIMA(2,1,2)(0,0,0)[0]             : AIC=inf, Time=0.10 sec\n",
      " ARIMA(4,1,0)(0,0,0)[0]             : AIC=-176.167, Time=0.07 sec\n",
      " ARIMA(4,1,2)(0,0,0)[0]             : AIC=-176.850, Time=0.23 sec\n",
      "\n",
      "Best model:  ARIMA(3,1,1)(0,0,0)[0]          \n",
      "Total fit time: 2.222 seconds\n"
     ]
    }
   ],
   "source": [
    "sarima_model_resid_DAU = pm.auto_arima(DAU_total_compon_df[['residual']], start_p=0, start_q=0, test='adf',\n",
    "                                       seasonal=True, start_P=0, start_Q=0, \n",
    "                                       trace=True, suppress_warnings=True, stepwise=True)"
   ]
  },
  {
   "cell_type": "code",
   "execution_count": 84,
   "metadata": {},
   "outputs": [],
   "source": [
    "resid_pred, resid_CI_pred = sarima_model_resid_DAU.predict(n_periods=n_days, return_conf_int=True)\n",
    "\n",
    "resid_pred = np.insert(resid_pred, 0, DAU_total_compon_df['residual'][-1], axis=0)\n",
    "resid_CI_pred = np.insert(resid_CI_pred, 0, [DAU_total_compon_df['residual'][-1],DAU_total_compon_df['residual'][-1]], axis=0)\n",
    "\n",
    "resid_pred_series = pd.Series(resid_pred, index=pred_date_index)\n",
    "resid_lower_CI_pred_series = pd.Series(resid_CI_pred[:, 0], index=pred_date_index)\n",
    "resid_upper_CI_pred_series = pd.Series(resid_CI_pred[:, 1], index=pred_date_index)\n",
    "\n",
    "resid_df = pd.concat([resid_lower_CI_pred_series[1:],resid_pred_series[1:],resid_upper_CI_pred_series[1:]],axis=1)\n",
    "resid_df.rename({0:'Lower Forecast',1:'Forecast',2:'Upper Forecast'},axis=1,inplace=True)"
   ]
  },
  {
   "cell_type": "code",
   "execution_count": 85,
   "metadata": {},
   "outputs": [
    {
     "data": {
      "image/png": "[encoded data removed]",
      "text/plain": [
       "<Figure size 432x288 with 1 Axes>"
      ]
     },
     "metadata": {
      "needs_background": "light"
     },
     "output_type": "display_data"
    }
   ],
   "source": [
    "fig, ax = plt.subplots()\n",
    "ax.plot(DAU_total_compon_df[['residual']], label='Observed')\n",
    "ax.plot(resid_pred_series, color='darkgreen', label='Forecasted')\n",
    "ax.fill_between(resid_lower_CI_pred_series.index, resid_lower_CI_pred_series, resid_upper_CI_pred_series, color='k', alpha=0.1,\n",
    "                label='Forecasted CI')\n",
    "plt.title('DAU residuals, ' + str(n_days) + '-Day Forecasting', fontdict = {'fontsize':16})\n",
    "\n",
    "ax.legend(fontsize=12,bbox_to_anchor=(0.56,0.35))\n",
    "plt.setp(ax.get_xticklabels(), rotation=30, ha=\"right\")\n",
    "\n",
    "for axis in ['top','bottom','left','right']:\n",
    "    ax.spines[axis].set_linewidth(1.2)\n",
    "\n",
    "for tick in ax.xaxis.get_major_ticks():\n",
    "    tick.label.set_fontsize(12) \n",
    "\n",
    "for tick in ax.yaxis.get_major_ticks():\n",
    "    tick.label.set_fontsize(12)\n",
    "\n",
    "plt.show()"
   ]
  },
  {
   "cell_type": "markdown",
   "metadata": {},
   "source": [
    "### trend * seasonality * residual"
   ]
  },
  {
   "cell_type": "code",
   "execution_count": 86,
   "metadata": {},
   "outputs": [],
   "source": [
    "# create series of in-sample predictions\n",
    "# we start generating in-sample predictions from the 3rd observation\n",
    "# because the trend SARIMA model has d=2 (2nd differencing)\n",
    "DAU_trend_in_sample_preds = pd.Series(sarima_model_trend_DAU.predict_in_sample()[2:], index=DAU_total_compon_df[['trend']][2:].index)\n",
    "DAU_season_in_sample_preds = pd.Series(sarima_model_season_DAU.predict_in_sample()[2:], index=DAU_total_compon_df[['seasonality']][2:].index)\n",
    "DAU_resid_in_sample_preds = pd.Series(sarima_model_resid_DAU.predict_in_sample()[2:], index=DAU_total_compon_df[['residual']][2:].index)\n",
    "\n",
    "DAU_mul_decomp_in_sample_preds = DAU_trend_in_sample_preds*DAU_season_in_sample_preds*DAU_resid_in_sample_preds"
   ]
  },
  {
   "cell_type": "code",
   "execution_count": 87,
   "metadata": {},
   "outputs": [],
   "source": [
    "forecast_comp_series = trend_pred_series*resid_pred_series*season_pred_series\n",
    "forecast_comp_lower_CI_series = trend_lower_CI_pred_series*season_lower_CI_pred_series*resid_lower_CI_pred_series\n",
    "forecast_comp_upper_CI_series = trend_upper_CI_pred_series*season_upper_CI_pred_series*resid_upper_CI_pred_series"
   ]
  },
  {
   "cell_type": "code",
   "execution_count": 88,
   "metadata": {},
   "outputs": [],
   "source": [
    "# create forecasted (decomposition-based) dataframe\n",
    "DAU_forecast_comp_df = pd.concat([forecast_comp_lower_CI_series[1:].astype(int),forecast_comp_series[1:].astype(int),forecast_comp_upper_CI_series[1:].astype(int)],axis=1)\n",
    "DAU_forecast_comp_df.rename({0:'Lower Forecast',1:'Forecast',2:'Upper Forecast'},axis=1,inplace=True)"
   ]
  },
  {
   "cell_type": "code",
   "execution_count": 89,
   "metadata": {},
   "outputs": [
    {
     "data": {
      "text/html": [
       "<div>\n",
       "<style scoped>\n",
       "    .dataframe tbody tr th:only-of-type {\n",
       "        vertical-align: middle;\n",
       "    }\n",
       "\n",
       "    .dataframe tbody tr th {\n",
       "        vertical-align: top;\n",
       "    }\n",
       "\n",
       "    .dataframe thead th {\n",
       "        text-align: right;\n",
       "    }\n",
       "</style>\n",
       "<table border=\"1\" class=\"dataframe\">\n",
       "  <thead>\n",
       "    <tr style=\"text-align: right;\">\n",
       "      <th></th>\n",
       "      <th>Lower Forecast</th>\n",
       "      <th>Forecast</th>\n",
       "      <th>Upper Forecast</th>\n",
       "    </tr>\n",
       "  </thead>\n",
       "  <tbody>\n",
       "    <tr>\n",
       "      <th>2016-03-01</th>\n",
       "      <td>137555</td>\n",
       "      <td>140963</td>\n",
       "      <td>144416</td>\n",
       "    </tr>\n",
       "    <tr>\n",
       "      <th>2016-03-02</th>\n",
       "      <td>137359</td>\n",
       "      <td>141756</td>\n",
       "      <td>146242</td>\n",
       "    </tr>\n",
       "    <tr>\n",
       "      <th>2016-03-03</th>\n",
       "      <td>135237</td>\n",
       "      <td>140404</td>\n",
       "      <td>145697</td>\n",
       "    </tr>\n",
       "    <tr>\n",
       "      <th>2016-03-04</th>\n",
       "      <td>124377</td>\n",
       "      <td>130246</td>\n",
       "      <td>136287</td>\n",
       "    </tr>\n",
       "    <tr>\n",
       "      <th>2016-03-05</th>\n",
       "      <td>114843</td>\n",
       "      <td>121370</td>\n",
       "      <td>128120</td>\n",
       "    </tr>\n",
       "    <tr>\n",
       "      <th>2016-03-06</th>\n",
       "      <td>127144</td>\n",
       "      <td>135331</td>\n",
       "      <td>143808</td>\n",
       "    </tr>\n",
       "    <tr>\n",
       "      <th>2016-03-07</th>\n",
       "      <td>138604</td>\n",
       "      <td>148755</td>\n",
       "      <td>159279</td>\n",
       "    </tr>\n",
       "    <tr>\n",
       "      <th>2016-03-08</th>\n",
       "      <td>138055</td>\n",
       "      <td>150480</td>\n",
       "      <td>163475</td>\n",
       "    </tr>\n",
       "    <tr>\n",
       "      <th>2016-03-09</th>\n",
       "      <td>137342</td>\n",
       "      <td>151609</td>\n",
       "      <td>166606</td>\n",
       "    </tr>\n",
       "    <tr>\n",
       "      <th>2016-03-10</th>\n",
       "      <td>133774</td>\n",
       "      <td>149242</td>\n",
       "      <td>165535</td>\n",
       "    </tr>\n",
       "    <tr>\n",
       "      <th>2016-03-11</th>\n",
       "      <td>122810</td>\n",
       "      <td>138962</td>\n",
       "      <td>156067</td>\n",
       "    </tr>\n",
       "    <tr>\n",
       "      <th>2016-03-12</th>\n",
       "      <td>113166</td>\n",
       "      <td>129912</td>\n",
       "      <td>147739</td>\n",
       "    </tr>\n",
       "    <tr>\n",
       "      <th>2016-03-13</th>\n",
       "      <td>124730</td>\n",
       "      <td>144490</td>\n",
       "      <td>165496</td>\n",
       "    </tr>\n",
       "    <tr>\n",
       "      <th>2016-03-14</th>\n",
       "      <td>135082</td>\n",
       "      <td>158161</td>\n",
       "      <td>182685</td>\n",
       "    </tr>\n",
       "  </tbody>\n",
       "</table>\n",
       "</div>"
      ],
      "text/plain": [
       "            Lower Forecast  Forecast  Upper Forecast\n",
       "2016-03-01          137555    140963          144416\n",
       "2016-03-02          137359    141756          146242\n",
       "2016-03-03          135237    140404          145697\n",
       "2016-03-04          124377    130246          136287\n",
       "2016-03-05          114843    121370          128120\n",
       "2016-03-06          127144    135331          143808\n",
       "2016-03-07          138604    148755          159279\n",
       "2016-03-08          138055    150480          163475\n",
       "2016-03-09          137342    151609          166606\n",
       "2016-03-10          133774    149242          165535\n",
       "2016-03-11          122810    138962          156067\n",
       "2016-03-12          113166    129912          147739\n",
       "2016-03-13          124730    144490          165496\n",
       "2016-03-14          135082    158161          182685"
      ]
     },
     "execution_count": 89,
     "metadata": {},
     "output_type": "execute_result"
    }
   ],
   "source": [
    "DAU_forecast_comp_df"
   ]
  },
  {
   "cell_type": "markdown",
   "metadata": {},
   "source": [
    "## Comparison between models"
   ]
  },
  {
   "cell_type": "code",
   "execution_count": 90,
   "metadata": {},
   "outputs": [
    {
     "data": {
      "text/plain": [
       "3548.220863751693"
      ]
     },
     "execution_count": 90,
     "metadata": {},
     "output_type": "execute_result"
    }
   ],
   "source": [
    "# RMSE for global SARIMA model\n",
    "np.sqrt(np.mean((DAU_tsa_df['total_DAU'][1:]-DAU_in_sample_preds)**2))"
   ]
  },
  {
   "cell_type": "code",
   "execution_count": 91,
   "metadata": {},
   "outputs": [
    {
     "data": {
      "text/plain": [
       "1849.3327557277505"
      ]
     },
     "execution_count": 91,
     "metadata": {},
     "output_type": "execute_result"
    }
   ],
   "source": [
    "# RMSE for decomposition-based SARIMA model\n",
    "np.sqrt(np.mean((DAU_tsa_df['total_DAU'][2:]-DAU_mul_decomp_in_sample_preds)**2))"
   ]
  },
  {
   "cell_type": "code",
   "execution_count": 92,
   "metadata": {},
   "outputs": [
    {
     "data": {
      "image/png": "[encoded data removed]",
      "text/plain": [
       "<Figure size 432x288 with 1 Axes>"
      ]
     },
     "metadata": {
      "needs_background": "light"
     },
     "output_type": "display_data"
    }
   ],
   "source": [
    "# plot observed vs in-sample predictions from the two models\n",
    "fig, ax = plt.subplots()\n",
    "\n",
    "ax.plot(DAU_total_compon_df[['observed']][2:], label='Observed')\n",
    "ax.plot(DAU_in_sample_preds[1:], color='darkred', label='In-sample Predictions')\n",
    "ax.plot(DAU_mul_decomp_in_sample_preds, color='darkgreen',\n",
    "        label='In-sample Predictions\\n(Decomposition-based)')\n",
    "\n",
    "ax.legend(fontsize=12)\n",
    "plt.setp(ax.get_xticklabels(), rotation=30, ha=\"right\")\n",
    "ax.get_xaxis().set_major_locator(mdates.DayLocator(interval=3))\n",
    "\n",
    "for axis in ['top','bottom','left','right']:\n",
    "    ax.spines[axis].set_linewidth(1.2)\n",
    "\n",
    "for tick in ax.xaxis.get_major_ticks():\n",
    "    tick.label.set_fontsize(12) \n",
    "\n",
    "for tick in ax.yaxis.get_major_ticks():\n",
    "    tick.label.set_fontsize(12)\n",
    "\n",
    "plt.title('Daily Active Users - February 2016', fontdict = {'fontsize':16})\n",
    "plt.savefig('./plots/DAU_FC_In_Sample.png', bbox_inches='tight', dpi=300)\n",
    "plt.show()"
   ]
  },
  {
   "cell_type": "code",
   "execution_count": 93,
   "metadata": {},
   "outputs": [
    {
     "data": {
      "image/png": "[encoded data removed]",
      "text/plain": [
       "<Figure size 432x288 with 1 Axes>"
      ]
     },
     "metadata": {
      "needs_background": "light"
     },
     "output_type": "display_data"
    }
   ],
   "source": [
    "# plot observed and forecasts from the two models\n",
    "fig, ax = plt.subplots()\n",
    "\n",
    "ax.plot(DAU_total_compon_df[['observed']], label='Observed')\n",
    "\n",
    "ax.plot(pred_series, color='darkred', label='Forecasted')\n",
    "ax.fill_between(lower_CI_pred_series.index, lower_CI_pred_series, upper_CI_pred_series, color='darkred',\n",
    "                alpha=0.1)\n",
    "\n",
    "ax.plot(forecast_comp_series, color='darkgreen', label='Forecasted\\n(Decomposition-based)')\n",
    "ax.fill_between(forecast_comp_lower_CI_series.index, forecast_comp_lower_CI_series, forecast_comp_upper_CI_series,\n",
    "                alpha=0.1, color='darkgreen')\n",
    "\n",
    "ax.legend(fontsize=12)\n",
    "plt.setp(ax.get_xticklabels(), rotation=30, ha=\"right\")\n",
    "ax.get_xaxis().set_major_locator(mdates.DayLocator(interval=5))\n",
    "\n",
    "for axis in ['top','bottom','left','right']:\n",
    "    ax.spines[axis].set_linewidth(1.2)\n",
    "\n",
    "for tick in ax.xaxis.get_major_ticks():\n",
    "    tick.label.set_fontsize(12) \n",
    "\n",
    "for tick in ax.yaxis.get_major_ticks():\n",
    "    tick.label.set_fontsize(12)\n",
    "\n",
    "plt.title('Daily Active Users, ' + str(n_days) + '-Day Forecasting', fontdict = {'fontsize':16})\n",
    "plt.savefig('./plots/DAU_FC.png', bbox_inches='tight', dpi=300)\n",
    "plt.show()"
   ]
  },
  {
   "cell_type": "code",
   "execution_count": null,
   "metadata": {},
   "outputs": [],
   "source": []
  }
 ],
 "metadata": {
  "kernelspec": {
   "display_name": "Python 3",
   "language": "python",
   "name": "python3"
  },
  "language_info": {
   "codemirror_mode": {
    "name": "ipython",
    "version": 3
   },
   "file_extension": ".py",
   "mimetype": "text/x-python",
   "name": "python",
   "nbconvert_exporter": "python",
   "pygments_lexer": "ipython3",
   "version": "3.7.6"
  }
 },
 "nbformat": 4,
 "nbformat_minor": 4
}
